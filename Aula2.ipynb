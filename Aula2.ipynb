{
  "nbformat": 4,
  "nbformat_minor": 0,
  "metadata": {
    "colab": {
      "name": "Aula2.ipynb",
      "version": "0.3.2",
      "provenance": [],
      "collapsed_sections": []
    },
    "kernelspec": {
      "name": "python3",
      "display_name": "Python 3"
    }
  },
  "cells": [
    {
      "metadata": {
        "id": "gzqm5n-BicOo",
        "colab_type": "code",
        "colab": {}
      },
      "cell_type": "code",
      "source": [
        "import pandas as pd\n",
        "import statsmodels.formula.api as sms\n",
        "import matplotlib.pyplot as plt\n",
        "import numpy as np\n",
        "%matplotlib inline"
      ],
      "execution_count": 0,
      "outputs": []
    },
    {
      "metadata": {
        "id": "7PBa7iV0jpJ4",
        "colab_type": "code",
        "outputId": "28894162-929a-4cd0-e7a8-a8ad1566951c",
        "colab": {
          "base_uri": "https://localhost:8080/",
          "height": 204
        }
      },
      "cell_type": "code",
      "source": [
        "# Lendo os dados das web\n",
        "adv = pd.read_csv(\"http://www-bcf.usc.edu/~gareth/ISL/Advertising.csv\")\n",
        "adv = adv.drop(columns=[\"Unnamed: 0\"], axis=1) # Dropa a primeira coluna\n",
        "adv.head()  # sales Quantidade de venda por 1000 dolar"
      ],
      "execution_count": 3,
      "outputs": [
        {
          "output_type": "execute_result",
          "data": {
            "text/html": [
              "<div>\n",
              "<style scoped>\n",
              "    .dataframe tbody tr th:only-of-type {\n",
              "        vertical-align: middle;\n",
              "    }\n",
              "\n",
              "    .dataframe tbody tr th {\n",
              "        vertical-align: top;\n",
              "    }\n",
              "\n",
              "    .dataframe thead th {\n",
              "        text-align: right;\n",
              "    }\n",
              "</style>\n",
              "<table border=\"1\" class=\"dataframe\">\n",
              "  <thead>\n",
              "    <tr style=\"text-align: right;\">\n",
              "      <th></th>\n",
              "      <th>TV</th>\n",
              "      <th>radio</th>\n",
              "      <th>newspaper</th>\n",
              "      <th>sales</th>\n",
              "    </tr>\n",
              "  </thead>\n",
              "  <tbody>\n",
              "    <tr>\n",
              "      <th>0</th>\n",
              "      <td>230.1</td>\n",
              "      <td>37.8</td>\n",
              "      <td>69.2</td>\n",
              "      <td>22.1</td>\n",
              "    </tr>\n",
              "    <tr>\n",
              "      <th>1</th>\n",
              "      <td>44.5</td>\n",
              "      <td>39.3</td>\n",
              "      <td>45.1</td>\n",
              "      <td>10.4</td>\n",
              "    </tr>\n",
              "    <tr>\n",
              "      <th>2</th>\n",
              "      <td>17.2</td>\n",
              "      <td>45.9</td>\n",
              "      <td>69.3</td>\n",
              "      <td>9.3</td>\n",
              "    </tr>\n",
              "    <tr>\n",
              "      <th>3</th>\n",
              "      <td>151.5</td>\n",
              "      <td>41.3</td>\n",
              "      <td>58.5</td>\n",
              "      <td>18.5</td>\n",
              "    </tr>\n",
              "    <tr>\n",
              "      <th>4</th>\n",
              "      <td>180.8</td>\n",
              "      <td>10.8</td>\n",
              "      <td>58.4</td>\n",
              "      <td>12.9</td>\n",
              "    </tr>\n",
              "  </tbody>\n",
              "</table>\n",
              "</div>"
            ],
            "text/plain": [
              "      TV  radio  newspaper  sales\n",
              "0  230.1   37.8       69.2   22.1\n",
              "1   44.5   39.3       45.1   10.4\n",
              "2   17.2   45.9       69.3    9.3\n",
              "3  151.5   41.3       58.5   18.5\n",
              "4  180.8   10.8       58.4   12.9"
            ]
          },
          "metadata": {
            "tags": []
          },
          "execution_count": 3
        }
      ]
    },
    {
      "metadata": {
        "id": "a6RR6VIwmbt3",
        "colab_type": "code",
        "outputId": "efe5b85e-4940-473b-8e57-8e1b175c6293",
        "colab": {
          "base_uri": "https://localhost:8080/",
          "height": 442
        }
      },
      "cell_type": "code",
      "source": [
        "# Primeira Regressão (Simples) \n",
        "\n",
        "# X = sales Y = TV fit( ajustando o modelo e guardando no objeto > model_tv)\n",
        "model_tv = sms.ols(formula=\"sales ~ TV\", data=adv).fit()   \n",
        "print(model_tv.summary()) # estatisticas descritivas\n",
        "# Para empresa que não investiu nada em TV, espera-se uma venda de 7000 unidades.\n",
        "# Para cada dolar a mais que uma empresa gasta com propadanda na TV, espera-se o\n",
        "# aumento de 20 unidades.\n",
        "# O p-value é maior do que 0,005 então eu rejeito a hipotese nula e defino que\n",
        "# existe uma relação entre venda e propaganda em TV."
      ],
      "execution_count": 4,
      "outputs": [
        {
          "output_type": "stream",
          "text": [
            "                            OLS Regression Results                            \n",
            "==============================================================================\n",
            "Dep. Variable:                  sales   R-squared:                       0.612\n",
            "Model:                            OLS   Adj. R-squared:                  0.610\n",
            "Method:                 Least Squares   F-statistic:                     312.1\n",
            "Date:                Sun, 03 Mar 2019   Prob (F-statistic):           1.47e-42\n",
            "Time:                        14:49:30   Log-Likelihood:                -519.05\n",
            "No. Observations:                 200   AIC:                             1042.\n",
            "Df Residuals:                     198   BIC:                             1049.\n",
            "Df Model:                           1                                         \n",
            "Covariance Type:            nonrobust                                         \n",
            "==============================================================================\n",
            "                 coef    std err          t      P>|t|      [0.025      0.975]\n",
            "------------------------------------------------------------------------------\n",
            "Intercept      7.0326      0.458     15.360      0.000       6.130       7.935\n",
            "TV             0.0475      0.003     17.668      0.000       0.042       0.053\n",
            "==============================================================================\n",
            "Omnibus:                        0.531   Durbin-Watson:                   1.935\n",
            "Prob(Omnibus):                  0.767   Jarque-Bera (JB):                0.669\n",
            "Skew:                          -0.089   Prob(JB):                        0.716\n",
            "Kurtosis:                       2.779   Cond. No.                         338.\n",
            "==============================================================================\n",
            "\n",
            "Warnings:\n",
            "[1] Standard Errors assume that the covariance matrix of the errors is correctly specified.\n"
          ],
          "name": "stdout"
        }
      ]
    },
    {
      "metadata": {
        "id": "okzZwSpWpZz3",
        "colab_type": "code",
        "outputId": "d2032cbf-41d0-4698-f5ea-4b8b07379eb3",
        "colab": {
          "base_uri": "https://localhost:8080/",
          "height": 442
        }
      },
      "cell_type": "code",
      "source": [
        "# Segunda regressão\n",
        "model_rad = sms.ols (formula = \"sales ~ radio\", data=adv).fit()\n",
        "print(model_rad.summary())\n",
        "\n",
        "# Para uma empresa que não investe nada em propaganda em radio, espera-se que tenha\n",
        "# a venda media de 9311 unidades.\n",
        "# Para cada mil dolare a mais que eu invisto no radio espera-se um aumento médio\n",
        "# de 200 unidades medidas\n"
      ],
      "execution_count": 5,
      "outputs": [
        {
          "output_type": "stream",
          "text": [
            "                            OLS Regression Results                            \n",
            "==============================================================================\n",
            "Dep. Variable:                  sales   R-squared:                       0.332\n",
            "Model:                            OLS   Adj. R-squared:                  0.329\n",
            "Method:                 Least Squares   F-statistic:                     98.42\n",
            "Date:                Sun, 03 Mar 2019   Prob (F-statistic):           4.35e-19\n",
            "Time:                        14:49:43   Log-Likelihood:                -573.34\n",
            "No. Observations:                 200   AIC:                             1151.\n",
            "Df Residuals:                     198   BIC:                             1157.\n",
            "Df Model:                           1                                         \n",
            "Covariance Type:            nonrobust                                         \n",
            "==============================================================================\n",
            "                 coef    std err          t      P>|t|      [0.025      0.975]\n",
            "------------------------------------------------------------------------------\n",
            "Intercept      9.3116      0.563     16.542      0.000       8.202      10.422\n",
            "radio          0.2025      0.020      9.921      0.000       0.162       0.243\n",
            "==============================================================================\n",
            "Omnibus:                       19.358   Durbin-Watson:                   1.946\n",
            "Prob(Omnibus):                  0.000   Jarque-Bera (JB):               21.910\n",
            "Skew:                          -0.764   Prob(JB):                     1.75e-05\n",
            "Kurtosis:                       3.544   Cond. No.                         51.4\n",
            "==============================================================================\n",
            "\n",
            "Warnings:\n",
            "[1] Standard Errors assume that the covariance matrix of the errors is correctly specified.\n"
          ],
          "name": "stdout"
        }
      ]
    },
    {
      "metadata": {
        "id": "2BtQehGu-nnj",
        "colab_type": "code",
        "colab": {
          "base_uri": "https://localhost:8080/",
          "height": 442
        },
        "outputId": "15fd9213-b793-4832-e776-22915736e206"
      },
      "cell_type": "code",
      "source": [
        "# Terceira Regressão\n",
        "model_news = sms.ols(formula=\"sales ~ newspaper\", data = adv).fit()\n",
        "print(model_news.summary())\n",
        "# Para uma empresa que não investe em propaganda em jornais, espera-se uma\n",
        "# venda média de 12351 unidades\n",
        "# Para cada mil dolares investido em jornal espera-se um aumento médio de \n",
        "# 54 unidades nas vendas\n",
        "# Foi significativo, pois os values são inferiores à 0,05"
      ],
      "execution_count": 6,
      "outputs": [
        {
          "output_type": "stream",
          "text": [
            "                            OLS Regression Results                            \n",
            "==============================================================================\n",
            "Dep. Variable:                  sales   R-squared:                       0.052\n",
            "Model:                            OLS   Adj. R-squared:                  0.047\n",
            "Method:                 Least Squares   F-statistic:                     10.89\n",
            "Date:                Sun, 03 Mar 2019   Prob (F-statistic):            0.00115\n",
            "Time:                        14:49:48   Log-Likelihood:                -608.34\n",
            "No. Observations:                 200   AIC:                             1221.\n",
            "Df Residuals:                     198   BIC:                             1227.\n",
            "Df Model:                           1                                         \n",
            "Covariance Type:            nonrobust                                         \n",
            "==============================================================================\n",
            "                 coef    std err          t      P>|t|      [0.025      0.975]\n",
            "------------------------------------------------------------------------------\n",
            "Intercept     12.3514      0.621     19.876      0.000      11.126      13.577\n",
            "newspaper      0.0547      0.017      3.300      0.001       0.022       0.087\n",
            "==============================================================================\n",
            "Omnibus:                        6.231   Durbin-Watson:                   1.983\n",
            "Prob(Omnibus):                  0.044   Jarque-Bera (JB):                5.483\n",
            "Skew:                           0.330   Prob(JB):                       0.0645\n",
            "Kurtosis:                       2.527   Cond. No.                         64.7\n",
            "==============================================================================\n",
            "\n",
            "Warnings:\n",
            "[1] Standard Errors assume that the covariance matrix of the errors is correctly specified.\n"
          ],
          "name": "stdout"
        }
      ]
    },
    {
      "metadata": {
        "id": "z9UbjxYIqqE-",
        "colab_type": "code",
        "colab": {
          "base_uri": "https://localhost:8080/",
          "height": 68
        },
        "outputId": "d7324280-2973-45f0-ccae-851d252d9328"
      },
      "cell_type": "code",
      "source": [
        "# Adicionando os 3 preditores\n",
        "\n",
        "# Vamos exibir os 3 parâmetros juntos só para facilitar comparação\n",
        "print(\"Modelo TV:\\t\"+ str(model_tv.params[1]))       # TV = 0,0047 *\n",
        "print(\"Modelo radio:\\t\"+ str(model_rad.params[1])) # radio = 0.202 *\n",
        "print(\"Modelo jornal:\\t\"+ str(model_news.params[1]))     # news = 0,055 *"
      ],
      "execution_count": 7,
      "outputs": [
        {
          "output_type": "stream",
          "text": [
            "Modelo TV:\t0.047536640433019764\n",
            "Modelo radio:\t0.20249578339243982\n",
            "Modelo jornal:\t0.05469309847227315\n"
          ],
          "name": "stdout"
        }
      ]
    },
    {
      "metadata": {
        "id": "2RNuidkjrEaN",
        "colab_type": "code",
        "colab": {
          "base_uri": "https://localhost:8080/",
          "height": 476
        },
        "outputId": "f64c420c-d1ca-41b6-db5a-2c689968f468"
      },
      "cell_type": "code",
      "source": [
        "# Agora, estimando com os três preditores ao mesmo tempo\n",
        "model_complete = sms.ols(formula=\"sales ~ TV + radio + newspaper\", \n",
        "                        data=adv).fit()\n",
        "print(model_complete.summary())\n",
        "\n",
        "# O valor esperado para a empresa que não investe em nenhum é 2938 unidades\n",
        "# Para cada aumento em TV espera-se um aumento de 45 unidades\n",
        "# Para cada mil dolares a mais em radio espera-se um auamento méio de 1885 unudades\n",
        "\n",
        "# Para cada mil dolares a mais em jornal espera-se a queda de 1 unidade\n",
        "# O p-value é maior que 0,05\n"
      ],
      "execution_count": 9,
      "outputs": [
        {
          "output_type": "stream",
          "text": [
            "                            OLS Regression Results                            \n",
            "==============================================================================\n",
            "Dep. Variable:                  sales   R-squared:                       0.897\n",
            "Model:                            OLS   Adj. R-squared:                  0.896\n",
            "Method:                 Least Squares   F-statistic:                     570.3\n",
            "Date:                Sun, 03 Mar 2019   Prob (F-statistic):           1.58e-96\n",
            "Time:                        14:51:15   Log-Likelihood:                -386.18\n",
            "No. Observations:                 200   AIC:                             780.4\n",
            "Df Residuals:                     196   BIC:                             793.6\n",
            "Df Model:                           3                                         \n",
            "Covariance Type:            nonrobust                                         \n",
            "==============================================================================\n",
            "                 coef    std err          t      P>|t|      [0.025      0.975]\n",
            "------------------------------------------------------------------------------\n",
            "Intercept      2.9389      0.312      9.422      0.000       2.324       3.554\n",
            "TV             0.0458      0.001     32.809      0.000       0.043       0.049\n",
            "radio          0.1885      0.009     21.893      0.000       0.172       0.206\n",
            "newspaper     -0.0010      0.006     -0.177      0.860      -0.013       0.011\n",
            "==============================================================================\n",
            "Omnibus:                       60.414   Durbin-Watson:                   2.084\n",
            "Prob(Omnibus):                  0.000   Jarque-Bera (JB):              151.241\n",
            "Skew:                          -1.327   Prob(JB):                     1.44e-33\n",
            "Kurtosis:                       6.332   Cond. No.                         454.\n",
            "==============================================================================\n",
            "\n",
            "Warnings:\n",
            "[1] Standard Errors assume that the covariance matrix of the errors is correctly specified.\n"
          ],
          "name": "stdout"
        }
      ]
    },
    {
      "metadata": {
        "id": "e_bUCXZ1tkEl",
        "colab_type": "code",
        "colab": {
          "base_uri": "https://localhost:8080/",
          "height": 142
        },
        "outputId": "938a97e4-c112-4265-8ea6-87fe3ad76eaf"
      },
      "cell_type": "code",
      "source": [
        "# Vamos verificar a matriz de correlação dessas variáveis\n",
        "adv[[\"TV\", \"radio\",\"newspaper\"]].corr()\n",
        "# Normalmente uma empresa que investe em radio tende a investir em jornal."
      ],
      "execution_count": 10,
      "outputs": [
        {
          "output_type": "execute_result",
          "data": {
            "text/html": [
              "<div>\n",
              "<style scoped>\n",
              "    .dataframe tbody tr th:only-of-type {\n",
              "        vertical-align: middle;\n",
              "    }\n",
              "\n",
              "    .dataframe tbody tr th {\n",
              "        vertical-align: top;\n",
              "    }\n",
              "\n",
              "    .dataframe thead th {\n",
              "        text-align: right;\n",
              "    }\n",
              "</style>\n",
              "<table border=\"1\" class=\"dataframe\">\n",
              "  <thead>\n",
              "    <tr style=\"text-align: right;\">\n",
              "      <th></th>\n",
              "      <th>TV</th>\n",
              "      <th>radio</th>\n",
              "      <th>newspaper</th>\n",
              "    </tr>\n",
              "  </thead>\n",
              "  <tbody>\n",
              "    <tr>\n",
              "      <th>TV</th>\n",
              "      <td>1.000000</td>\n",
              "      <td>0.054809</td>\n",
              "      <td>0.056648</td>\n",
              "    </tr>\n",
              "    <tr>\n",
              "      <th>radio</th>\n",
              "      <td>0.054809</td>\n",
              "      <td>1.000000</td>\n",
              "      <td>0.354104</td>\n",
              "    </tr>\n",
              "    <tr>\n",
              "      <th>newspaper</th>\n",
              "      <td>0.056648</td>\n",
              "      <td>0.354104</td>\n",
              "      <td>1.000000</td>\n",
              "    </tr>\n",
              "  </tbody>\n",
              "</table>\n",
              "</div>"
            ],
            "text/plain": [
              "                 TV     radio  newspaper\n",
              "TV         1.000000  0.054809   0.056648\n",
              "radio      0.054809  1.000000   0.354104\n",
              "newspaper  0.056648  0.354104   1.000000"
            ]
          },
          "metadata": {
            "tags": []
          },
          "execution_count": 10
        }
      ]
    }
  ]
}