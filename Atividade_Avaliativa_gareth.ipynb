{
 "cells": [
  {
   "cell_type": "markdown",
   "metadata": {},
   "source": [
    "(Data de Entrega: 08/04  2º Feira)  \n",
    "# Atividade Avaliativa\n",
    "\n",
    "https://www-bcf.usc.edu/~gareth/ISL/ISLR%20First%20Printing.pdf \n",
    "\n",
    "Pág. 121 -> 8 (fazer todo), 9 (até letra d), 10 (fazer todo), 13 (fazer todo) e 15 (fazer todo). \n",
    "_________________________________________________________________________________________________\n",
    "\n",
    "- 8. Esta questão envolve o uso de regressão linear simples no conjunto de dados [Auto].  \n",
    "\n",
    "(a) Use a função lm() para executar uma regressão linear simples com mpg como a resposta e a horsepower \n",
    "como o preditor. \n",
    "         Use a função summary() para imprimir os resultados. Comente a saída.\n",
    "Por exemplo:  \n",
    "\n",
    "i. Existe uma relação entre o preditor e a resposta?\n",
    "\n",
    "ii. Quão forte é a relação entre o preditor e a resposta?  \n",
    "\n",
    "iii. A relação entre o preditor e a resposta é positiva ou negativa?  \n",
    "\n",
    "iv. Qual é o mpg previsto associado a uma potência de 98? Quais são os intervalos de previsão e confiança \n",
    "de 95% associados?  \n",
    "\n",
    "(b) Plote a resposta e o preditor. Use a função abline() para exibir a linha de regressão de mínimos quadrados. \n",
    "\n",
    "(c) Use a função plot() para produzir gráficos de diagnóstico do ajuste de regressão de mínimos quadrados.\n",
    "\n",
    "Comente sobre quaisquer problemas que você vir com o ajuste. "
   ]
  },
  {
   "cell_type": "code",
   "execution_count": 1,
   "metadata": {},
   "outputs": [
    {
     "name": "stderr",
     "output_type": "stream",
     "text": [
      "Updating HTML index of packages in '.Library'\n",
      "Making 'packages.html' ... done\n"
     ]
    }
   ],
   "source": [
    "install.packages(\"ISLR\")\n",
    "library(ISLR)"
   ]
  },
  {
   "cell_type": "code",
   "execution_count": 4,
   "metadata": {},
   "outputs": [
    {
     "ename": "ERROR",
     "evalue": "Error in eval(predvars, data, env): invalid 'envir' argument of type 'character'\n",
     "output_type": "error",
     "traceback": [
      "Error in eval(predvars, data, env): invalid 'envir' argument of type 'character'\nTraceback:\n",
      "1. lm(mpg ~ horsepower, data = \"Auto\")",
      "2. eval(mf, parent.frame())",
      "3. eval(mf, parent.frame())",
      "4. stats::model.frame(formula = mpg ~ horsepower, data = \"Auto\", \n .     drop.unused.levels = TRUE)",
      "5. model.frame.default(formula = mpg ~ horsepower, data = \"Auto\", \n .     drop.unused.levels = TRUE)",
      "6. eval(predvars, data, env)"
     ]
    }
   ],
   "source": [
    "lm.fit=lm(mpg~horsepower, data=\"Auto\")"
   ]
  },
  {
   "cell_type": "code",
   "execution_count": 5,
   "metadata": {},
   "outputs": [
    {
     "data": {
      "text/plain": [
       "\n",
       "Call:\n",
       "lm(formula = mpg ~ horsepower, data = Auto)\n",
       "\n",
       "Coefficients:\n",
       "(Intercept)   horsepower  \n",
       "    39.9359      -0.1578  \n"
      ]
     },
     "metadata": {},
     "output_type": "display_data"
    }
   ],
   "source": [
    "lm.fit"
   ]
  },
  {
   "cell_type": "markdown",
   "metadata": {},
   "source": [
    "Os resultados mostram o intercepto e o coeficiente beta para a variável horsepower\n",
    "\n",
    "Interpretação da saída acima:\n",
    "\n",
    "a equação da linha de regressão estimada pode ser escrita da seguinte forma: mpg = 39.94 + -0.16*horsepower\n",
    "\n",
    "o intercepto(b0) é 39.94. Pode ser interpretado como a unidade de mpg(consumo de combustível) prevista para cada zero de horsepower. Lembre-se que estamos operando em unidades em milhas por galão. Isso significa que, para um intercepto  de horsepower igual a zero, podemos esperar um consumo de combustível de 39.94 * 1.000 = 39.940.\n",
    "\n"
   ]
  },
  {
   "cell_type": "code",
   "execution_count": null,
   "metadata": {},
   "outputs": [],
   "source": [
    "# horsepower = preditor | mpg = resposta"
   ]
  },
  {
   "cell_type": "code",
   "execution_count": 6,
   "metadata": {},
   "outputs": [
    {
     "data": {
      "text/plain": [
       "\n",
       "Call:\n",
       "lm(formula = mpg ~ horsepower, data = Auto)\n",
       "\n",
       "Residuals:\n",
       "     Min       1Q   Median       3Q      Max \n",
       "-13.5710  -3.2592  -0.3435   2.7630  16.9240 \n",
       "\n",
       "Coefficients:\n",
       "             Estimate Std. Error t value Pr(>|t|)    \n",
       "(Intercept) 39.935861   0.717499   55.66   <2e-16 ***\n",
       "horsepower  -0.157845   0.006446  -24.49   <2e-16 ***\n",
       "---\n",
       "Signif. codes:  0 ‘***’ 0.001 ‘**’ 0.01 ‘*’ 0.05 ‘.’ 0.1 ‘ ’ 1\n",
       "\n",
       "Residual standard error: 4.906 on 390 degrees of freedom\n",
       "Multiple R-squared:  0.6059,\tAdjusted R-squared:  0.6049 \n",
       "F-statistic: 599.7 on 1 and 390 DF,  p-value: < 2.2e-16\n"
      ]
     },
     "metadata": {},
     "output_type": "display_data"
    }
   ],
   "source": [
    "summary(lm.fit)"
   ]
  },
  {
   "cell_type": "code",
   "execution_count": 9,
   "metadata": {},
   "outputs": [
    {
     "data": {
      "text/html": [
       "<table>\n",
       "<thead><tr><th></th><th scope=col>2.5 %</th><th scope=col>97.5 %</th></tr></thead>\n",
       "<tbody>\n",
       "\t<tr><th scope=row>(Intercept)</th><td>38.525212 </td><td>41.3465103</td></tr>\n",
       "\t<tr><th scope=row>horsepower</th><td>-0.170517 </td><td>-0.1451725</td></tr>\n",
       "</tbody>\n",
       "</table>\n"
      ],
      "text/latex": [
       "\\begin{tabular}{r|ll}\n",
       "  & 2.5 \\% & 97.5 \\%\\\\\n",
       "\\hline\n",
       "\t(Intercept) & 38.525212  & 41.3465103\\\\\n",
       "\thorsepower & -0.170517  & -0.1451725\\\\\n",
       "\\end{tabular}\n"
      ],
      "text/markdown": [
       "\n",
       "| <!--/--> | 2.5 % | 97.5 % | \n",
       "|---|---|\n",
       "| (Intercept) | 38.525212  | 41.3465103 | \n",
       "| horsepower | -0.170517  | -0.1451725 | \n",
       "\n",
       "\n"
      ],
      "text/plain": [
       "            2.5 %     97.5 %    \n",
       "(Intercept) 38.525212 41.3465103\n",
       "horsepower  -0.170517 -0.1451725"
      ]
     },
     "metadata": {},
     "output_type": "display_data"
    }
   ],
   "source": [
    "confint(lm.fit)"
   ]
  }
 ],
 "metadata": {
  "kernelspec": {
   "display_name": "R",
   "language": "R",
   "name": "ir"
  },
  "language_info": {
   "codemirror_mode": "r",
   "file_extension": ".r",
   "mimetype": "text/x-r-source",
   "name": "R",
   "pygments_lexer": "r",
   "version": "3.4.3"
  }
 },
 "nbformat": 4,
 "nbformat_minor": 2
}
