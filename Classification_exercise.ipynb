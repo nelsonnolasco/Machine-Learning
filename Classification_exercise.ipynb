{
  "nbformat": 4,
  "nbformat_minor": 0,
  "metadata": {
    "colab": {
      "name": "Classification_exercise.ipynb",
      "version": "0.3.2",
      "provenance": [],
      "include_colab_link": true
    },
    "kernelspec": {
      "name": "python3",
      "display_name": "Python 3"
    }
  },
  "cells": [
    {
      "cell_type": "markdown",
      "metadata": {
        "id": "view-in-github",
        "colab_type": "text"
      },
      "source": [
        "<a href=\"https://colab.research.google.com/github/Warleygomes/Machine-Learning/blob/master/Classification_exercise.ipynb\" target=\"_parent\"><img src=\"https://colab.research.google.com/assets/colab-badge.svg\" alt=\"Open In Colab\"/></a>"
      ]
    },
    {
      "metadata": {
        "id": "8lyFGggvNOiH",
        "colab_type": "text"
      },
      "cell_type": "markdown",
      "source": [
        "\n",
        "# Exercício Classificação\n",
        "\n",
        "Utilizando os dados do banco SMarket, prediga a direção de fechamento do mercado (Up ou Down)\n",
        "\n"
      ]
    },
    {
      "metadata": {
        "id": "1KHokV_5EE5t",
        "colab_type": "code",
        "colab": {}
      },
      "cell_type": "code",
      "source": [
        "import pandas as pd\n",
        "import numpy as np\n",
        "import matplotlib.pyplot as plt\n",
        "%matplotlib inline\n",
        "\n",
        "# Métricas\n",
        "from sklearn.model_selection import train_test_split\n",
        "from sklearn.metrics import roc_auc_score, auc\n",
        "\n",
        "# Algorithms de Classificação\n",
        "from sklearn.discriminant_analysis import LinearDiscriminantAnalysis\n",
        "from sklearn.discriminant_analysis import QuadraticDiscriminantAnalysis"
      ],
      "execution_count": 0,
      "outputs": []
    },
    {
      "metadata": {
        "id": "ZsFlbggoEw-1",
        "colab_type": "code",
        "outputId": "09ef3dc6-c014-4fb5-fdf2-f42fe47c95db",
        "colab": {
          "base_uri": "https://localhost:8080/",
          "height": 204
        }
      },
      "cell_type": "code",
      "source": [
        "# Importando o banco de dados\n",
        "bd = pd.read_csv(\"https://raw.githubusercontent.com/neylsoncrepalde/ML_classes/master/Data/Smarket.csv\")\n",
        "bd.head()"
      ],
      "execution_count": 0,
      "outputs": [
        {
          "output_type": "execute_result",
          "data": {
            "text/html": [
              "<div>\n",
              "<style scoped>\n",
              "    .dataframe tbody tr th:only-of-type {\n",
              "        vertical-align: middle;\n",
              "    }\n",
              "\n",
              "    .dataframe tbody tr th {\n",
              "        vertical-align: top;\n",
              "    }\n",
              "\n",
              "    .dataframe thead th {\n",
              "        text-align: right;\n",
              "    }\n",
              "</style>\n",
              "<table border=\"1\" class=\"dataframe\">\n",
              "  <thead>\n",
              "    <tr style=\"text-align: right;\">\n",
              "      <th></th>\n",
              "      <th>Year</th>\n",
              "      <th>Lag1</th>\n",
              "      <th>Lag2</th>\n",
              "      <th>Lag3</th>\n",
              "      <th>Lag4</th>\n",
              "      <th>Lag5</th>\n",
              "      <th>Volume</th>\n",
              "      <th>Today</th>\n",
              "      <th>Direction</th>\n",
              "    </tr>\n",
              "  </thead>\n",
              "  <tbody>\n",
              "    <tr>\n",
              "      <th>0</th>\n",
              "      <td>2001</td>\n",
              "      <td>0.381</td>\n",
              "      <td>-0.192</td>\n",
              "      <td>-2.624</td>\n",
              "      <td>-1.055</td>\n",
              "      <td>5.010</td>\n",
              "      <td>1.1913</td>\n",
              "      <td>0.959</td>\n",
              "      <td>Up</td>\n",
              "    </tr>\n",
              "    <tr>\n",
              "      <th>1</th>\n",
              "      <td>2001</td>\n",
              "      <td>0.959</td>\n",
              "      <td>0.381</td>\n",
              "      <td>-0.192</td>\n",
              "      <td>-2.624</td>\n",
              "      <td>-1.055</td>\n",
              "      <td>1.2965</td>\n",
              "      <td>1.032</td>\n",
              "      <td>Up</td>\n",
              "    </tr>\n",
              "    <tr>\n",
              "      <th>2</th>\n",
              "      <td>2001</td>\n",
              "      <td>1.032</td>\n",
              "      <td>0.959</td>\n",
              "      <td>0.381</td>\n",
              "      <td>-0.192</td>\n",
              "      <td>-2.624</td>\n",
              "      <td>1.4112</td>\n",
              "      <td>-0.623</td>\n",
              "      <td>Down</td>\n",
              "    </tr>\n",
              "    <tr>\n",
              "      <th>3</th>\n",
              "      <td>2001</td>\n",
              "      <td>-0.623</td>\n",
              "      <td>1.032</td>\n",
              "      <td>0.959</td>\n",
              "      <td>0.381</td>\n",
              "      <td>-0.192</td>\n",
              "      <td>1.2760</td>\n",
              "      <td>0.614</td>\n",
              "      <td>Up</td>\n",
              "    </tr>\n",
              "    <tr>\n",
              "      <th>4</th>\n",
              "      <td>2001</td>\n",
              "      <td>0.614</td>\n",
              "      <td>-0.623</td>\n",
              "      <td>1.032</td>\n",
              "      <td>0.959</td>\n",
              "      <td>0.381</td>\n",
              "      <td>1.2057</td>\n",
              "      <td>0.213</td>\n",
              "      <td>Up</td>\n",
              "    </tr>\n",
              "  </tbody>\n",
              "</table>\n",
              "</div>"
            ],
            "text/plain": [
              "   Year   Lag1   Lag2   Lag3   Lag4   Lag5  Volume  Today Direction\n",
              "0  2001  0.381 -0.192 -2.624 -1.055  5.010  1.1913  0.959        Up\n",
              "1  2001  0.959  0.381 -0.192 -2.624 -1.055  1.2965  1.032        Up\n",
              "2  2001  1.032  0.959  0.381 -0.192 -2.624  1.4112 -0.623      Down\n",
              "3  2001 -0.623  1.032  0.959  0.381 -0.192  1.2760  0.614        Up\n",
              "4  2001  0.614 -0.623  1.032  0.959  0.381  1.2057  0.213        Up"
            ]
          },
          "metadata": {
            "tags": []
          },
          "execution_count": 4
        }
      ]
    },
    {
      "metadata": {
        "id": "SVEg3wyzFTDH",
        "colab_type": "code",
        "colab": {}
      },
      "cell_type": "code",
      "source": [
        ""
      ],
      "execution_count": 0,
      "outputs": []
    },
    {
      "metadata": {
        "id": "GEh-f4jDFdne",
        "colab_type": "text"
      },
      "cell_type": "markdown",
      "source": [
        " Prever se a direction do mercado está para cima ou para baixo\n",
        "# Dando uma boa olhada nos dados"
      ]
    },
    {
      "metadata": {
        "id": "GxBJg2KVFw8J",
        "colab_type": "code",
        "outputId": "b73228ed-f2e8-4e1a-9692-fca520808390",
        "colab": {
          "base_uri": "https://localhost:8080/",
          "height": 1105
        }
      },
      "cell_type": "code",
      "source": [
        "bd.describe"
      ],
      "execution_count": 0,
      "outputs": [
        {
          "output_type": "execute_result",
          "data": {
            "text/plain": [
              "<bound method NDFrame.describe of       Year   Lag1   Lag2   Lag3   Lag4   Lag5   Volume  Today Direction\n",
              "0     2001  0.381 -0.192 -2.624 -1.055  5.010  1.19130  0.959        Up\n",
              "1     2001  0.959  0.381 -0.192 -2.624 -1.055  1.29650  1.032        Up\n",
              "2     2001  1.032  0.959  0.381 -0.192 -2.624  1.41120 -0.623      Down\n",
              "3     2001 -0.623  1.032  0.959  0.381 -0.192  1.27600  0.614        Up\n",
              "4     2001  0.614 -0.623  1.032  0.959  0.381  1.20570  0.213        Up\n",
              "5     2001  0.213  0.614 -0.623  1.032  0.959  1.34910  1.392        Up\n",
              "6     2001  1.392  0.213  0.614 -0.623  1.032  1.44500 -0.403      Down\n",
              "7     2001 -0.403  1.392  0.213  0.614 -0.623  1.40780  0.027        Up\n",
              "8     2001  0.027 -0.403  1.392  0.213  0.614  1.16400  1.303        Up\n",
              "9     2001  1.303  0.027 -0.403  1.392  0.213  1.23260  0.287        Up\n",
              "10    2001  0.287  1.303  0.027 -0.403  1.392  1.30900 -0.498      Down\n",
              "11    2001 -0.498  0.287  1.303  0.027 -0.403  1.25800 -0.189      Down\n",
              "12    2001 -0.189 -0.498  0.287  1.303  0.027  1.09800  0.680        Up\n",
              "13    2001  0.680 -0.189 -0.498  0.287  1.303  1.05310  0.701        Up\n",
              "14    2001  0.701  0.680 -0.189 -0.498  0.287  1.14980 -0.562      Down\n",
              "15    2001 -0.562  0.701  0.680 -0.189 -0.498  1.29530  0.546        Up\n",
              "16    2001  0.546 -0.562  0.701  0.680 -0.189  1.11880 -1.747      Down\n",
              "17    2001 -1.747  0.546 -0.562  0.701  0.680  1.04840  0.359        Up\n",
              "18    2001  0.359 -1.747  0.546 -0.562  0.701  1.01300 -0.151      Down\n",
              "19    2001 -0.151  0.359 -1.747  0.546 -0.562  1.05960 -0.841      Down\n",
              "20    2001 -0.841 -0.151  0.359 -1.747  0.546  1.15830 -0.623      Down\n",
              "21    2001 -0.623 -0.841 -0.151  0.359 -1.747  1.10720 -1.334      Down\n",
              "22    2001 -1.334 -0.623 -0.841 -0.151  0.359  1.07550  1.183        Up\n",
              "23    2001  1.183 -1.334 -0.623 -0.841 -0.151  1.03910 -0.865      Down\n",
              "24    2001 -0.865  1.183 -1.334 -0.623 -0.841  1.07520 -0.218      Down\n",
              "25    2001 -0.218 -0.865  1.183 -1.334 -0.623  1.15030  0.812        Up\n",
              "26    2001  0.812 -0.218 -0.865  1.183 -1.334  1.15370 -1.891      Down\n",
              "27    2001 -1.891  0.812 -0.218 -0.865  1.183  1.25720 -1.736      Down\n",
              "28    2001 -1.736 -1.891  0.812 -0.218 -0.865  1.11220 -1.851      Down\n",
              "29    2001 -1.851 -1.736 -1.891  0.812 -0.218  1.20850 -0.195      Down\n",
              "...    ...    ...    ...    ...    ...    ...      ...    ...       ...\n",
              "1220  2005  0.179 -0.385 -0.078  0.305  0.845  2.12158  0.941        Up\n",
              "1221  2005  0.941  0.179 -0.385 -0.078  0.305  2.29804  0.440        Up\n",
              "1222  2005  0.440  0.941  0.179 -0.385 -0.078  2.45329  0.527        Up\n",
              "1223  2005  0.527  0.440  0.941  0.179 -0.385  2.11735  0.508        Up\n",
              "1224  2005  0.508  0.527  0.440  0.941  0.179  2.29142  0.347        Up\n",
              "1225  2005  0.347  0.508  0.527  0.440  0.941  1.98540  0.209        Up\n",
              "1226  2005  0.209  0.347  0.508  0.527  0.440  0.72494 -0.851      Down\n",
              "1227  2005 -0.851  0.209  0.347  0.508  0.527  2.01690  0.002        Up\n",
              "1228  2005  0.002 -0.851  0.209  0.347  0.508  2.26834 -0.636      Down\n",
              "1229  2005 -0.636  0.002 -0.851  0.209  0.347  2.37469  1.216        Up\n",
              "1230  2005  1.216 -0.636  0.002 -0.851  0.209  2.61483  0.032        Up\n",
              "1231  2005  0.032  1.216 -0.636  0.002 -0.851  2.12558 -0.236      Down\n",
              "1232  2005 -0.236  0.032  1.216 -0.636  0.002  2.32584  0.128        Up\n",
              "1233  2005  0.128 -0.236  0.032  1.216 -0.636  2.11074 -0.501      Down\n",
              "1234  2005 -0.501  0.128 -0.236  0.032  1.216  2.09383 -0.122      Down\n",
              "1235  2005 -0.122 -0.501  0.128 -0.236  0.032  2.17830  0.281        Up\n",
              "1236  2005  0.281 -0.122 -0.501  0.128 -0.236  1.89629  0.084        Up\n",
              "1237  2005  0.084  0.281 -0.122 -0.501  0.128  1.87655  0.555        Up\n",
              "1238  2005  0.555  0.084  0.281 -0.122 -0.501  2.39002  0.419        Up\n",
              "1239  2005  0.419  0.555  0.084  0.281 -0.122  2.14552 -0.141      Down\n",
              "1240  2005 -0.141  0.419  0.555  0.084  0.281  2.18059 -0.285      Down\n",
              "1241  2005 -0.285 -0.141  0.419  0.555  0.084  2.58419 -0.584      Down\n",
              "1242  2005 -0.584 -0.285 -0.141  0.419  0.555  2.20881 -0.024      Down\n",
              "1243  2005 -0.024 -0.584 -0.285 -0.141  0.419  1.99669  0.252        Up\n",
              "1244  2005  0.252 -0.024 -0.584 -0.285 -0.141  2.06517  0.422        Up\n",
              "1245  2005  0.422  0.252 -0.024 -0.584 -0.285  1.88850  0.043        Up\n",
              "1246  2005  0.043  0.422  0.252 -0.024 -0.584  1.28581 -0.955      Down\n",
              "1247  2005 -0.955  0.043  0.422  0.252 -0.024  1.54047  0.130        Up\n",
              "1248  2005  0.130 -0.955  0.043  0.422  0.252  1.42236 -0.298      Down\n",
              "1249  2005 -0.298  0.130 -0.955  0.043  0.422  1.38254 -0.489      Down\n",
              "\n",
              "[1250 rows x 9 columns]>"
            ]
          },
          "metadata": {
            "tags": []
          },
          "execution_count": 5
        }
      ]
    },
    {
      "metadata": {
        "id": "r7RNmNyeFjq5",
        "colab_type": "code",
        "outputId": "68a2c44c-c823-4d21-80b8-74e25492f36e",
        "colab": {
          "base_uri": "https://localhost:8080/",
          "height": 68
        }
      },
      "cell_type": "code",
      "source": [
        "bd.Direction.value_counts()"
      ],
      "execution_count": 0,
      "outputs": [
        {
          "output_type": "execute_result",
          "data": {
            "text/plain": [
              "Up      648\n",
              "Down    602\n",
              "Name: Direction, dtype: int64"
            ]
          },
          "metadata": {
            "tags": []
          },
          "execution_count": 20
        }
      ]
    },
    {
      "metadata": {
        "id": "KZIWIjitGDJT",
        "colab_type": "text"
      },
      "cell_type": "markdown",
      "source": [
        "# Preprocessing"
      ]
    },
    {
      "metadata": {
        "id": "PpGKLhyzGBj7",
        "colab_type": "code",
        "outputId": "6e656e38-250e-4df6-a4b4-67ba08245f9b",
        "colab": {
          "base_uri": "https://localhost:8080/",
          "height": 68
        }
      },
      "cell_type": "code",
      "source": [
        "bd1 = pd.get_dummies(bd, drop_first=True)\n",
        "bd1.columns"
      ],
      "execution_count": 0,
      "outputs": [
        {
          "output_type": "execute_result",
          "data": {
            "text/plain": [
              "Index(['Year', 'Lag1', 'Lag2', 'Lag3', 'Lag4', 'Lag5', 'Volume', 'Today',\n",
              "       'Direction_Up'],\n",
              "      dtype='object')"
            ]
          },
          "metadata": {
            "tags": []
          },
          "execution_count": 23
        }
      ]
    },
    {
      "metadata": {
        "id": "1fjp92qSGQAa",
        "colab_type": "code",
        "colab": {}
      },
      "cell_type": "code",
      "source": [
        "y = bd1.Direction_Up\n",
        "X = bd1[[\"Lag1\", \"Lag2\", \"Lag3\", \"Lag4\", \"Lag5\"]]\n",
        "X_train, y_test, y_train, y_test = train_test_split (X, y, test_size =.3, random_state=123)"
      ],
      "execution_count": 0,
      "outputs": []
    },
    {
      "metadata": {
        "id": "C_Cxhqf5Iq3d",
        "colab_type": "text"
      },
      "cell_type": "markdown",
      "source": [
        "# Montando os modelos de ML"
      ]
    },
    {
      "metadata": {
        "id": "iXbwLWPrHcb7",
        "colab_type": "code",
        "outputId": "deea1ce8-944c-4be8-fcee-89f3ac5c78e8",
        "colab": {
          "base_uri": "https://localhost:8080/",
          "height": 180
        }
      },
      "cell_type": "code",
      "source": [
        "logreg = LogisticRegression()\n",
        "logreg.fit(X_train, y_train)"
      ],
      "execution_count": 0,
      "outputs": [
        {
          "output_type": "error",
          "ename": "NameError",
          "evalue": "ignored",
          "traceback": [
            "\u001b[0;31m---------------------------------------------------------------------------\u001b[0m",
            "\u001b[0;31mNameError\u001b[0m                                 Traceback (most recent call last)",
            "\u001b[0;32m<ipython-input-33-c61699e43268>\u001b[0m in \u001b[0;36m<module>\u001b[0;34m()\u001b[0m\n\u001b[0;32m----> 1\u001b[0;31m \u001b[0mlogreg\u001b[0m \u001b[0;34m=\u001b[0m \u001b[0mLogisticRegression\u001b[0m\u001b[0;34m(\u001b[0m\u001b[0;34m)\u001b[0m\u001b[0;34m\u001b[0m\u001b[0;34m\u001b[0m\u001b[0m\n\u001b[0m\u001b[1;32m      2\u001b[0m \u001b[0mlogreg\u001b[0m\u001b[0;34m.\u001b[0m\u001b[0mfit\u001b[0m\u001b[0;34m(\u001b[0m\u001b[0mX_train\u001b[0m\u001b[0;34m,\u001b[0m \u001b[0my_train\u001b[0m\u001b[0;34m)\u001b[0m\u001b[0;34m\u001b[0m\u001b[0;34m\u001b[0m\u001b[0m\n",
            "\u001b[0;31mNameError\u001b[0m: name 'LogisticRegression' is not defined"
          ]
        }
      ]
    },
    {
      "metadata": {
        "id": "tg5un0xpIxQ_",
        "colab_type": "code",
        "colab": {}
      },
      "cell_type": "code",
      "source": [
        "logred.coef_"
      ],
      "execution_count": 0,
      "outputs": []
    },
    {
      "metadata": {
        "id": "nbuZIZY9I1bH",
        "colab_type": "code",
        "colab": {}
      },
      "cell_type": "code",
      "source": [
        "yhat_lr = logreg.predict(X_test)\n",
        "pd.crosstab(y_test,yhat_lr)"
      ],
      "execution_count": 0,
      "outputs": []
    },
    {
      "metadata": {
        "id": "igKpDd2DKvlx",
        "colab_type": "code",
        "colab": {}
      },
      "cell_type": "code",
      "source": [
        "auc_lr = roc_auc_score(y_test, yhat_lr)\n",
        "print(\"AUC for logistic Regression: \", auc_lr)"
      ],
      "execution_count": 0,
      "outputs": []
    },
    {
      "metadata": {
        "id": "mfQw78sSOsLL",
        "colab_type": "code",
        "colab": {}
      },
      "cell_type": "code",
      "source": [
        "# Testando com LDA\n",
        "lda = LinearDiscriminatAnalytisis()\n",
        "lda.fit(X_train, y_train)\n",
        "yhat_lda = lda.predict(X_test)\n",
        "auc_lda = roc_auc_score(y_test, yhat_lda)\n",
        "print(\"AUC for LDA:\" \", auc_lda)\n",
        "      "
      ],
      "execution_count": 0,
      "outputs": []
    },
    {
      "metadata": {
        "id": "b1lKvkTjP-mv",
        "colab_type": "code",
        "colab": {}
      },
      "cell_type": "code",
      "source": [
        "# Random Forest\n",
        "from sklearn.ensemble import RandomForesrClassifier\n"
      ],
      "execution_count": 0,
      "outputs": []
    }
  ]
}