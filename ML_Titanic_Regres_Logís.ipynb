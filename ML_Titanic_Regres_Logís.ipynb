{
  "nbformat": 4,
  "nbformat_minor": 0,
  "metadata": {
    "colab": {
      "name": "ML_Titanic/Regres_Logís.ipynb",
      "version": "0.3.2",
      "provenance": [],
      "collapsed_sections": []
    },
    "kernelspec": {
      "name": "python3",
      "display_name": "Python 3"
    }
  },
  "cells": [
    {
      "metadata": {
        "id": "D2N7WPry6-qU",
        "colab_type": "text"
      },
      "cell_type": "markdown",
      "source": [
        "# Machine Learning\n",
        "      ---Titanic/Regres_Logís\n",
        " - Prof. Neylson\n",
        " - Izabela Hendrix\n",
        " - Warley Gomes\n",
        "\n",
        "### Classificação - Regressão Logística\n",
        "   Vamos estimar modelos de regressão logística para enteder as chances de sobrevivência no Titanic\n",
        "  a partir de atribuitos disponíveis"
      ]
    },
    {
      "metadata": {
        "id": "UtKvSPA17XWU",
        "colab_type": "code",
        "colab": {}
      },
      "cell_type": "code",
      "source": [
        "# Importar os módulos necessários\n",
        "import pandas as pd\n",
        "import numpy as np\n",
        "import matplotlib.pyplot as plt\n",
        "%matplotlib inline\n",
        "\n",
        "from statsmodels.discrete.discrete_model import Logit\n",
        "from sklearn.model_selection import train_test_split\n",
        "from sklearn.metrics import roc_auc_score\n"
      ],
      "execution_count": 0,
      "outputs": []
    },
    {
      "metadata": {
        "id": "Au0DFKBZ9jps",
        "colab_type": "code",
        "colab": {
          "base_uri": "https://localhost:8080/",
          "height": 204
        },
        "outputId": "79437ea7-6ccb-4275-fb8b-a470f97074ff"
      },
      "cell_type": "code",
      "source": [
        "bd = pd.read_csv(\"https://raw.githubusercontent.com/rebeccabilbro/titanic/master/data/train.csv\")\n",
        "bd.head()"
      ],
      "execution_count": 3,
      "outputs": [
        {
          "output_type": "execute_result",
          "data": {
            "text/html": [
              "<div>\n",
              "<style scoped>\n",
              "    .dataframe tbody tr th:only-of-type {\n",
              "        vertical-align: middle;\n",
              "    }\n",
              "\n",
              "    .dataframe tbody tr th {\n",
              "        vertical-align: top;\n",
              "    }\n",
              "\n",
              "    .dataframe thead th {\n",
              "        text-align: right;\n",
              "    }\n",
              "</style>\n",
              "<table border=\"1\" class=\"dataframe\">\n",
              "  <thead>\n",
              "    <tr style=\"text-align: right;\">\n",
              "      <th></th>\n",
              "      <th>PassengerId</th>\n",
              "      <th>Survived</th>\n",
              "      <th>Pclass</th>\n",
              "      <th>Name</th>\n",
              "      <th>Sex</th>\n",
              "      <th>Age</th>\n",
              "      <th>SibSp</th>\n",
              "      <th>Parch</th>\n",
              "      <th>Ticket</th>\n",
              "      <th>Fare</th>\n",
              "      <th>Cabin</th>\n",
              "      <th>Embarked</th>\n",
              "    </tr>\n",
              "  </thead>\n",
              "  <tbody>\n",
              "    <tr>\n",
              "      <th>0</th>\n",
              "      <td>1</td>\n",
              "      <td>0</td>\n",
              "      <td>3</td>\n",
              "      <td>Braund, Mr. Owen Harris</td>\n",
              "      <td>male</td>\n",
              "      <td>22.0</td>\n",
              "      <td>1</td>\n",
              "      <td>0</td>\n",
              "      <td>A/5 21171</td>\n",
              "      <td>7.2500</td>\n",
              "      <td>NaN</td>\n",
              "      <td>S</td>\n",
              "    </tr>\n",
              "    <tr>\n",
              "      <th>1</th>\n",
              "      <td>2</td>\n",
              "      <td>1</td>\n",
              "      <td>1</td>\n",
              "      <td>Cumings, Mrs. John Bradley (Florence Briggs Th...</td>\n",
              "      <td>female</td>\n",
              "      <td>38.0</td>\n",
              "      <td>1</td>\n",
              "      <td>0</td>\n",
              "      <td>PC 17599</td>\n",
              "      <td>71.2833</td>\n",
              "      <td>C85</td>\n",
              "      <td>C</td>\n",
              "    </tr>\n",
              "    <tr>\n",
              "      <th>2</th>\n",
              "      <td>3</td>\n",
              "      <td>1</td>\n",
              "      <td>3</td>\n",
              "      <td>Heikkinen, Miss. Laina</td>\n",
              "      <td>female</td>\n",
              "      <td>26.0</td>\n",
              "      <td>0</td>\n",
              "      <td>0</td>\n",
              "      <td>STON/O2. 3101282</td>\n",
              "      <td>7.9250</td>\n",
              "      <td>NaN</td>\n",
              "      <td>S</td>\n",
              "    </tr>\n",
              "    <tr>\n",
              "      <th>3</th>\n",
              "      <td>4</td>\n",
              "      <td>1</td>\n",
              "      <td>1</td>\n",
              "      <td>Futrelle, Mrs. Jacques Heath (Lily May Peel)</td>\n",
              "      <td>female</td>\n",
              "      <td>35.0</td>\n",
              "      <td>1</td>\n",
              "      <td>0</td>\n",
              "      <td>113803</td>\n",
              "      <td>53.1000</td>\n",
              "      <td>C123</td>\n",
              "      <td>S</td>\n",
              "    </tr>\n",
              "    <tr>\n",
              "      <th>4</th>\n",
              "      <td>5</td>\n",
              "      <td>0</td>\n",
              "      <td>3</td>\n",
              "      <td>Allen, Mr. William Henry</td>\n",
              "      <td>male</td>\n",
              "      <td>35.0</td>\n",
              "      <td>0</td>\n",
              "      <td>0</td>\n",
              "      <td>373450</td>\n",
              "      <td>8.0500</td>\n",
              "      <td>NaN</td>\n",
              "      <td>S</td>\n",
              "    </tr>\n",
              "  </tbody>\n",
              "</table>\n",
              "</div>"
            ],
            "text/plain": [
              "   PassengerId  Survived  Pclass  \\\n",
              "0            1         0       3   \n",
              "1            2         1       1   \n",
              "2            3         1       3   \n",
              "3            4         1       1   \n",
              "4            5         0       3   \n",
              "\n",
              "                                                Name     Sex   Age  SibSp  \\\n",
              "0                            Braund, Mr. Owen Harris    male  22.0      1   \n",
              "1  Cumings, Mrs. John Bradley (Florence Briggs Th...  female  38.0      1   \n",
              "2                             Heikkinen, Miss. Laina  female  26.0      0   \n",
              "3       Futrelle, Mrs. Jacques Heath (Lily May Peel)  female  35.0      1   \n",
              "4                           Allen, Mr. William Henry    male  35.0      0   \n",
              "\n",
              "   Parch            Ticket     Fare Cabin Embarked  \n",
              "0      0         A/5 21171   7.2500   NaN        S  \n",
              "1      0          PC 17599  71.2833   C85        C  \n",
              "2      0  STON/O2. 3101282   7.9250   NaN        S  \n",
              "3      0            113803  53.1000  C123        S  \n",
              "4      0            373450   8.0500   NaN        S  "
            ]
          },
          "metadata": {
            "tags": []
          },
          "execution_count": 3
        }
      ]
    },
    {
      "metadata": {
        "id": "hDQ9sROm-tgN",
        "colab_type": "text"
      },
      "cell_type": "markdown",
      "source": [
        "**Explicar sobrevivência pela idade, sexo e pela classe do passageiro:**\n",
        "\n",
        "\n",
        "\n"
      ]
    },
    {
      "metadata": {
        "id": "l9rBf0xI-_us",
        "colab_type": "code",
        "colab": {
          "base_uri": "https://localhost:8080/",
          "height": 238
        },
        "outputId": "bf8baca0-b26a-4f93-b778-19ef7cc368e0"
      },
      "cell_type": "code",
      "source": [
        "bd.dtypes # tipo das variáveis"
      ],
      "execution_count": 4,
      "outputs": [
        {
          "output_type": "execute_result",
          "data": {
            "text/plain": [
              "PassengerId      int64\n",
              "Survived         int64\n",
              "Pclass           int64\n",
              "Name            object\n",
              "Sex             object\n",
              "Age            float64\n",
              "SibSp            int64\n",
              "Parch            int64\n",
              "Ticket          object\n",
              "Fare           float64\n",
              "Cabin           object\n",
              "Embarked        object\n",
              "dtype: object"
            ]
          },
          "metadata": {
            "tags": []
          },
          "execution_count": 4
        }
      ]
    },
    {
      "metadata": {
        "id": "AFCnxW26_emM",
        "colab_type": "code",
        "colab": {
          "base_uri": "https://localhost:8080/",
          "height": 238
        },
        "outputId": "28b4f0f3-72f5-4418-9e62-0734eb75428c"
      },
      "cell_type": "code",
      "source": [
        "# Modificando a variável Pclass para categoria\n",
        "bd[\"Pclass\"] = bd[\"Pclass\"].astype(\"category\")\n",
        "bd.dtypes"
      ],
      "execution_count": 6,
      "outputs": [
        {
          "output_type": "execute_result",
          "data": {
            "text/plain": [
              "PassengerId       int64\n",
              "Survived          int64\n",
              "Pclass         category\n",
              "Name             object\n",
              "Sex              object\n",
              "Age             float64\n",
              "SibSp             int64\n",
              "Parch             int64\n",
              "Ticket           object\n",
              "Fare            float64\n",
              "Cabin            object\n",
              "Embarked         object\n",
              "dtype: object"
            ]
          },
          "metadata": {
            "tags": []
          },
          "execution_count": 6
        }
      ]
    },
    {
      "metadata": {
        "id": "Xhtw3KSg_0pN",
        "colab_type": "code",
        "colab": {
          "base_uri": "https://localhost:8080/",
          "height": 136
        },
        "outputId": "9ff19227-4817-4b64-ed93-13693dd3da53"
      },
      "cell_type": "code",
      "source": [
        "# Montando o modelo\n",
        "# Y = Survived\n",
        "# X = Age, Sex, Pclass\n",
        "# Preprocessing\n",
        "bd1 = pd.get_dummies(bd, drop_first=True)\n",
        "bd1.columns"
      ],
      "execution_count": 7,
      "outputs": [
        {
          "output_type": "execute_result",
          "data": {
            "text/plain": [
              "Index(['PassengerId', 'Survived', 'Age', 'SibSp', 'Parch', 'Fare', 'Pclass_2',\n",
              "       'Pclass_3', 'Name_Abbott, Mr. Rossmore Edward',\n",
              "       'Name_Abbott, Mrs. Stanton (Rosa Hunt)',\n",
              "       ...\n",
              "       'Cabin_F G63', 'Cabin_F G73', 'Cabin_F2', 'Cabin_F33', 'Cabin_F38',\n",
              "       'Cabin_F4', 'Cabin_G6', 'Cabin_T', 'Embarked_Q', 'Embarked_S'],\n",
              "      dtype='object', length=1727)"
            ]
          },
          "metadata": {
            "tags": []
          },
          "execution_count": 7
        }
      ]
    },
    {
      "metadata": {
        "id": "R9c51B-uAbx1",
        "colab_type": "code",
        "colab": {
          "base_uri": "https://localhost:8080/",
          "height": 34
        },
        "outputId": "79005500-b0d4-409a-cad4-c0faacfe0af6"
      },
      "cell_type": "code",
      "source": [
        "# Criando as matrizes para a estimação\n",
        "# Separando as variáveis de interesse\n",
        "bd1 = bd1[[\"Age\", \"Sex_male\", \"Pclass_2\",\"Pclass_3\", \"Survived\"]]\n",
        "# Remover os NAs\n",
        "bd1 = bd1.dropna()\n",
        "bd1.shape\n"
      ],
      "execution_count": 21,
      "outputs": [
        {
          "output_type": "execute_result",
          "data": {
            "text/plain": [
              "(714, 5)"
            ]
          },
          "metadata": {
            "tags": []
          },
          "execution_count": 21
        }
      ]
    },
    {
      "metadata": {
        "id": "kyZhwZehHQLz",
        "colab_type": "code",
        "colab": {
          "base_uri": "https://localhost:8080/",
          "height": 34
        },
        "outputId": "01ccf7f6-8fa7-4059-cc3e-0b59897652b4"
      },
      "cell_type": "code",
      "source": [
        "# Dividimos nossos dados \n",
        "y = bd1.Survived\n",
        "X = bd1[[\"Age\", \"Sex_male\", \"Pclass_2\",\"Pclass_3\"]]\n",
        "X.shape\n",
        "y.shape\n"
      ],
      "execution_count": 27,
      "outputs": [
        {
          "output_type": "execute_result",
          "data": {
            "text/plain": [
              "(714,)"
            ]
          },
          "metadata": {
            "tags": []
          },
          "execution_count": 27
        }
      ]
    },
    {
      "metadata": {
        "id": "etuufTnNJRJ6",
        "colab_type": "code",
        "colab": {
          "base_uri": "https://localhost:8080/",
          "height": 34
        },
        "outputId": "5983a54c-0a47-4287-db5f-66a1b7481a33"
      },
      "cell_type": "code",
      "source": [
        "X[\"intercept\"]= 1\n",
        "X.shape"
      ],
      "execution_count": 29,
      "outputs": [
        {
          "output_type": "execute_result",
          "data": {
            "text/plain": [
              "(714, 5)"
            ]
          },
          "metadata": {
            "tags": []
          },
          "execution_count": 29
        }
      ]
    },
    {
      "metadata": {
        "id": "-GHUhy7gJcAz",
        "colab_type": "code",
        "colab": {}
      },
      "cell_type": "code",
      "source": [
        "X_train, X_test, y_train, y_test = train_test_split(X, y, test_size=.3, random_state=1)"
      ],
      "execution_count": 0,
      "outputs": []
    },
    {
      "metadata": {
        "id": "P5SbplZTD4tl",
        "colab_type": "code",
        "colab": {
          "base_uri": "https://localhost:8080/",
          "height": 391
        },
        "outputId": "13c1e17f-492b-4f8b-cbf2-d0e0895b462d"
      },
      "cell_type": "code",
      "source": [
        "# Estimar o modelo e visualizar os resultados\n",
        "model1 = Logit(y_train, X_train).fit()\n",
        "print(model1.summary2())"
      ],
      "execution_count": 32,
      "outputs": [
        {
          "output_type": "stream",
          "text": [
            "Optimization terminated successfully.\n",
            "         Current function value: 0.462052\n",
            "         Iterations 6\n",
            "                        Results: Logit\n",
            "===============================================================\n",
            "Model:              Logit            No. Iterations:   6.0000  \n",
            "Dependent Variable: Survived         Pseudo R-squared: 0.320   \n",
            "Date:               2019-03-25 23:22 AIC:              471.1283\n",
            "No. Observations:   499              BIC:              492.1913\n",
            "Df Model:           4                Log-Likelihood:   -230.56 \n",
            "Df Residuals:       494              LL-Null:          -339.28 \n",
            "Converged:          1.0000           Scale:            1.0000  \n",
            "----------------------------------------------------------------\n",
            "            Coef.   Std.Err.     z      P>|z|    [0.025   0.975]\n",
            "----------------------------------------------------------------\n",
            "Age        -0.0316    0.0090   -3.5110  0.0004  -0.0492  -0.0139\n",
            "Sex_male   -2.5629    0.2455  -10.4413  0.0000  -3.0440  -2.0818\n",
            "Pclass_2   -1.2833    0.3271   -3.9229  0.0001  -1.9245  -0.6422\n",
            "Pclass_3   -2.3819    0.3261   -7.3031  0.0000  -3.0211  -1.7426\n",
            "intercept   3.6067    0.4692    7.6867  0.0000   2.6871   4.5263\n",
            "===============================================================\n",
            "\n"
          ],
          "name": "stdout"
        }
      ]
    },
    {
      "metadata": {
        "id": "56BtvzRwKoTd",
        "colab_type": "code",
        "colab": {
          "base_uri": "https://localhost:8080/",
          "height": 119
        },
        "outputId": "f5b938c5-72d4-4861-eb93-bfca7c68f083"
      },
      "cell_type": "code",
      "source": [
        "# Calcular as chances relativas\n",
        "np.exp(model1.params)\n"
      ],
      "execution_count": 37,
      "outputs": [
        {
          "output_type": "execute_result",
          "data": {
            "text/plain": [
              "Age           0.968918\n",
              "Sex_male      0.077081\n",
              "Pclass_2      0.277114\n",
              "Pclass_3      0.092376\n",
              "intercept    36.844502\n",
              "dtype: float64"
            ]
          },
          "metadata": {
            "tags": []
          },
          "execution_count": 37
        }
      ]
    },
    {
      "metadata": {
        "id": "MD5bbNxEK10M",
        "colab_type": "text"
      },
      "cell_type": "markdown",
      "source": [
        "- Os homens tem 07 porcentos da chance de sobrevivência das mulheres\n",
        "- Para cada ano há mais Pclass2 vai ter 27 porcentoS das chances relativas da Pclass3\n",
        "- Para cada ano há mais Pclass3 vai ter 9 porcento das chances relativas da Pclass3"
      ]
    },
    {
      "metadata": {
        "id": "z7w2oqpJLTYM",
        "colab_type": "code",
        "colab": {}
      },
      "cell_type": "code",
      "source": [
        "def get_oddsperc(x):\n",
        "    res = (np.exp(x) - 1) * 100\n",
        "    return(res)"
      ],
      "execution_count": 0,
      "outputs": []
    },
    {
      "metadata": {
        "id": "JdUl4HD_LxXB",
        "colab_type": "code",
        "colab": {
          "base_uri": "https://localhost:8080/",
          "height": 119
        },
        "outputId": "7c62964d-addf-40c2-c611-f03e48c71a74"
      },
      "cell_type": "code",
      "source": [
        "get_oddsperc(model1.params)"
      ],
      "execution_count": 39,
      "outputs": [
        {
          "output_type": "execute_result",
          "data": {
            "text/plain": [
              "Age            -3.108190\n",
              "Sex_male      -92.291929\n",
              "Pclass_2      -72.288630\n",
              "Pclass_3      -90.762383\n",
              "intercept    3584.450154\n",
              "dtype: float64"
            ]
          },
          "metadata": {
            "tags": []
          },
          "execution_count": 39
        }
      ]
    },
    {
      "metadata": {
        "id": "JgMCKI5cL4yA",
        "colab_type": "text"
      },
      "cell_type": "markdown",
      "source": [
        "- Para cada um ano há mais na idade espera uma diminuição de 3 porcentos na chances de sobrevivencia.\n",
        "\n",
        "- Homens têm menos 92 porcentos de chance de sobreviver do que as mulheres\n"
      ]
    },
    {
      "metadata": {
        "id": "GvBggY-7MbZZ",
        "colab_type": "code",
        "colab": {
          "base_uri": "https://localhost:8080/",
          "height": 51
        },
        "outputId": "28c028b3-c6e8-43a0-b148-bed8b27c71bf"
      },
      "cell_type": "code",
      "source": [
        "# Predizendo a minha chance de sobrevivência\n",
        "Warley = pd.DataFrame({\"Age\": 23, \"Sex_male\":1,\n",
        "                       \"Pclass_2\":0, \"Pclass_3\":1, \"intercept\":1},\n",
        "                      index=[0])\n",
        "print(model1.predict(Warley))"
      ],
      "execution_count": 43,
      "outputs": [
        {
          "output_type": "stream",
          "text": [
            "0    0.3133\n",
            "dtype: float64\n"
          ],
          "name": "stdout"
        }
      ]
    },
    {
      "metadata": {
        "id": "PyUsiQV9OAb4",
        "colab_type": "code",
        "colab": {}
      },
      "cell_type": "code",
      "source": [
        ""
      ],
      "execution_count": 0,
      "outputs": []
    }
  ]
}