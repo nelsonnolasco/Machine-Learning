{
  "nbformat": 4,
  "nbformat_minor": 0,
  "metadata": {
    "colab": {
      "name": "ML_Titanic/Regres_Logís.ipynb",
      "version": "0.3.2",
      "provenance": [],
      "collapsed_sections": [],
      "include_colab_link": true
    },
    "kernelspec": {
      "name": "python3",
      "display_name": "Python 3"
    }
  },
  "cells": [
    {
      "cell_type": "markdown",
      "metadata": {
        "id": "view-in-github",
        "colab_type": "text"
      },
      "source": [
        "<a href=\"https://colab.research.google.com/github/Warleygomes/Machine-Learning/blob/master/ML_Titanic_Regres_Log%C3%ADs.ipynb\" target=\"_parent\"><img src=\"https://colab.research.google.com/assets/colab-badge.svg\" alt=\"Open In Colab\"/></a>"
      ]
    },
    {
      "metadata": {
        "id": "D2N7WPry6-qU",
        "colab_type": "text"
      },
      "cell_type": "markdown",
      "source": [
        "# Machine Learning\n",
        "      ---Titanic/Regres_Logís\n",
        " - Prof. Neylson\n",
        " - Izabela Hendrix\n",
        " - Warley Gomes\n",
        "\n",
        "### Classificação - Regressão Logística\n",
        "   Vamos estimar modelos de regressão logística para enteder as chances de sobrevivência no Titanic\n",
        "  a partir de atribuitos disponíveis"
      ]
    },
    {
      "metadata": {
        "id": "UtKvSPA17XWU",
        "colab_type": "code",
        "colab": {}
      },
      "cell_type": "code",
      "source": [
        "# Importar os módulos necessários\n",
        "import pandas as pd\n",
        "import numpy as np\n",
        "import matplotlib.pyplot as plt\n",
        "%matplotlib inline\n",
        "\n",
        "from statsmodels.discrete.discrete_model import Logit\n",
        "from sklearn.model_selection import train_test_split\n",
        "from sklearn.metrics import roc_auc_score, roc_curve\n",
        "\n",
        "# APAGAR ESSAS DUAS LINHAS > import plot.ly \n",
        "# plotly.tools.set_credentials_files # fazer usuário no site*****"
      ],
      "execution_count": 0,
      "outputs": []
    },
    {
      "metadata": {
        "id": "Au0DFKBZ9jps",
        "colab_type": "code",
        "outputId": "4041a8b1-22b9-4826-cfbc-5add41e399fb",
        "colab": {
          "base_uri": "https://localhost:8080/",
          "height": 204
        }
      },
      "cell_type": "code",
      "source": [
        "bd = pd.read_csv(\"https://raw.githubusercontent.com/rebeccabilbro/titanic/master/data/train.csv\")\n",
        "bd.head()"
      ],
      "execution_count": 7,
      "outputs": [
        {
          "output_type": "execute_result",
          "data": {
            "text/html": [
              "<div>\n",
              "<style scoped>\n",
              "    .dataframe tbody tr th:only-of-type {\n",
              "        vertical-align: middle;\n",
              "    }\n",
              "\n",
              "    .dataframe tbody tr th {\n",
              "        vertical-align: top;\n",
              "    }\n",
              "\n",
              "    .dataframe thead th {\n",
              "        text-align: right;\n",
              "    }\n",
              "</style>\n",
              "<table border=\"1\" class=\"dataframe\">\n",
              "  <thead>\n",
              "    <tr style=\"text-align: right;\">\n",
              "      <th></th>\n",
              "      <th>PassengerId</th>\n",
              "      <th>Survived</th>\n",
              "      <th>Pclass</th>\n",
              "      <th>Name</th>\n",
              "      <th>Sex</th>\n",
              "      <th>Age</th>\n",
              "      <th>SibSp</th>\n",
              "      <th>Parch</th>\n",
              "      <th>Ticket</th>\n",
              "      <th>Fare</th>\n",
              "      <th>Cabin</th>\n",
              "      <th>Embarked</th>\n",
              "    </tr>\n",
              "  </thead>\n",
              "  <tbody>\n",
              "    <tr>\n",
              "      <th>0</th>\n",
              "      <td>1</td>\n",
              "      <td>0</td>\n",
              "      <td>3</td>\n",
              "      <td>Braund, Mr. Owen Harris</td>\n",
              "      <td>male</td>\n",
              "      <td>22.0</td>\n",
              "      <td>1</td>\n",
              "      <td>0</td>\n",
              "      <td>A/5 21171</td>\n",
              "      <td>7.2500</td>\n",
              "      <td>NaN</td>\n",
              "      <td>S</td>\n",
              "    </tr>\n",
              "    <tr>\n",
              "      <th>1</th>\n",
              "      <td>2</td>\n",
              "      <td>1</td>\n",
              "      <td>1</td>\n",
              "      <td>Cumings, Mrs. John Bradley (Florence Briggs Th...</td>\n",
              "      <td>female</td>\n",
              "      <td>38.0</td>\n",
              "      <td>1</td>\n",
              "      <td>0</td>\n",
              "      <td>PC 17599</td>\n",
              "      <td>71.2833</td>\n",
              "      <td>C85</td>\n",
              "      <td>C</td>\n",
              "    </tr>\n",
              "    <tr>\n",
              "      <th>2</th>\n",
              "      <td>3</td>\n",
              "      <td>1</td>\n",
              "      <td>3</td>\n",
              "      <td>Heikkinen, Miss. Laina</td>\n",
              "      <td>female</td>\n",
              "      <td>26.0</td>\n",
              "      <td>0</td>\n",
              "      <td>0</td>\n",
              "      <td>STON/O2. 3101282</td>\n",
              "      <td>7.9250</td>\n",
              "      <td>NaN</td>\n",
              "      <td>S</td>\n",
              "    </tr>\n",
              "    <tr>\n",
              "      <th>3</th>\n",
              "      <td>4</td>\n",
              "      <td>1</td>\n",
              "      <td>1</td>\n",
              "      <td>Futrelle, Mrs. Jacques Heath (Lily May Peel)</td>\n",
              "      <td>female</td>\n",
              "      <td>35.0</td>\n",
              "      <td>1</td>\n",
              "      <td>0</td>\n",
              "      <td>113803</td>\n",
              "      <td>53.1000</td>\n",
              "      <td>C123</td>\n",
              "      <td>S</td>\n",
              "    </tr>\n",
              "    <tr>\n",
              "      <th>4</th>\n",
              "      <td>5</td>\n",
              "      <td>0</td>\n",
              "      <td>3</td>\n",
              "      <td>Allen, Mr. William Henry</td>\n",
              "      <td>male</td>\n",
              "      <td>35.0</td>\n",
              "      <td>0</td>\n",
              "      <td>0</td>\n",
              "      <td>373450</td>\n",
              "      <td>8.0500</td>\n",
              "      <td>NaN</td>\n",
              "      <td>S</td>\n",
              "    </tr>\n",
              "  </tbody>\n",
              "</table>\n",
              "</div>"
            ],
            "text/plain": [
              "   PassengerId  Survived  Pclass  \\\n",
              "0            1         0       3   \n",
              "1            2         1       1   \n",
              "2            3         1       3   \n",
              "3            4         1       1   \n",
              "4            5         0       3   \n",
              "\n",
              "                                                Name     Sex   Age  SibSp  \\\n",
              "0                            Braund, Mr. Owen Harris    male  22.0      1   \n",
              "1  Cumings, Mrs. John Bradley (Florence Briggs Th...  female  38.0      1   \n",
              "2                             Heikkinen, Miss. Laina  female  26.0      0   \n",
              "3       Futrelle, Mrs. Jacques Heath (Lily May Peel)  female  35.0      1   \n",
              "4                           Allen, Mr. William Henry    male  35.0      0   \n",
              "\n",
              "   Parch            Ticket     Fare Cabin Embarked  \n",
              "0      0         A/5 21171   7.2500   NaN        S  \n",
              "1      0          PC 17599  71.2833   C85        C  \n",
              "2      0  STON/O2. 3101282   7.9250   NaN        S  \n",
              "3      0            113803  53.1000  C123        S  \n",
              "4      0            373450   8.0500   NaN        S  "
            ]
          },
          "metadata": {
            "tags": []
          },
          "execution_count": 7
        }
      ]
    },
    {
      "metadata": {
        "id": "hDQ9sROm-tgN",
        "colab_type": "text"
      },
      "cell_type": "markdown",
      "source": [
        "**Explicar sobrevivência pela idade, sexo e pela classe do passageiro:**\n",
        "\n",
        "\n",
        "\n"
      ]
    },
    {
      "metadata": {
        "id": "l9rBf0xI-_us",
        "colab_type": "code",
        "outputId": "d11b5470-4553-44c6-ac9c-70b345c8deb5",
        "colab": {
          "base_uri": "https://localhost:8080/",
          "height": 238
        }
      },
      "cell_type": "code",
      "source": [
        "bd.dtypes # tipo das variáveis"
      ],
      "execution_count": 8,
      "outputs": [
        {
          "output_type": "execute_result",
          "data": {
            "text/plain": [
              "PassengerId      int64\n",
              "Survived         int64\n",
              "Pclass           int64\n",
              "Name            object\n",
              "Sex             object\n",
              "Age            float64\n",
              "SibSp            int64\n",
              "Parch            int64\n",
              "Ticket          object\n",
              "Fare           float64\n",
              "Cabin           object\n",
              "Embarked        object\n",
              "dtype: object"
            ]
          },
          "metadata": {
            "tags": []
          },
          "execution_count": 8
        }
      ]
    },
    {
      "metadata": {
        "id": "AFCnxW26_emM",
        "colab_type": "code",
        "outputId": "24f2eac8-e145-455d-b94f-72c3b8fab7dd",
        "colab": {
          "base_uri": "https://localhost:8080/",
          "height": 238
        }
      },
      "cell_type": "code",
      "source": [
        "# Modificando a variável Pclass para categoria\n",
        "bd[\"Pclass\"] = bd[\"Pclass\"].astype(\"category\")\n",
        "bd.dtypes"
      ],
      "execution_count": 9,
      "outputs": [
        {
          "output_type": "execute_result",
          "data": {
            "text/plain": [
              "PassengerId       int64\n",
              "Survived          int64\n",
              "Pclass         category\n",
              "Name             object\n",
              "Sex              object\n",
              "Age             float64\n",
              "SibSp             int64\n",
              "Parch             int64\n",
              "Ticket           object\n",
              "Fare            float64\n",
              "Cabin            object\n",
              "Embarked         object\n",
              "dtype: object"
            ]
          },
          "metadata": {
            "tags": []
          },
          "execution_count": 9
        }
      ]
    },
    {
      "metadata": {
        "id": "Xhtw3KSg_0pN",
        "colab_type": "code",
        "outputId": "32c60500-4f4c-43ab-f09f-919df09d3070",
        "colab": {
          "base_uri": "https://localhost:8080/",
          "height": 136
        }
      },
      "cell_type": "code",
      "source": [
        "# Montando o modelo\n",
        "# Y = Survived\n",
        "# X = Age, Sex, Pclass\n",
        "# Preprocessing\n",
        "bd1 = pd.get_dummies(bd, drop_first=True)\n",
        "bd1.columns"
      ],
      "execution_count": 10,
      "outputs": [
        {
          "output_type": "execute_result",
          "data": {
            "text/plain": [
              "Index(['PassengerId', 'Survived', 'Age', 'SibSp', 'Parch', 'Fare', 'Pclass_2',\n",
              "       'Pclass_3', 'Name_Abbott, Mr. Rossmore Edward',\n",
              "       'Name_Abbott, Mrs. Stanton (Rosa Hunt)',\n",
              "       ...\n",
              "       'Cabin_F G63', 'Cabin_F G73', 'Cabin_F2', 'Cabin_F33', 'Cabin_F38',\n",
              "       'Cabin_F4', 'Cabin_G6', 'Cabin_T', 'Embarked_Q', 'Embarked_S'],\n",
              "      dtype='object', length=1727)"
            ]
          },
          "metadata": {
            "tags": []
          },
          "execution_count": 10
        }
      ]
    },
    {
      "metadata": {
        "id": "R9c51B-uAbx1",
        "colab_type": "code",
        "outputId": "5dfe319d-3dbb-4117-cdd0-303d2dd76be3",
        "colab": {
          "base_uri": "https://localhost:8080/",
          "height": 34
        }
      },
      "cell_type": "code",
      "source": [
        "# Criando as matrizes para a estimação\n",
        "# Separando as variáveis de interesse\n",
        "bd1 = bd1[[\"Age\", \"Sex_male\", \"Pclass_2\",\"Pclass_3\", \"Survived\"]]\n",
        "# Remover os NAs\n",
        "bd1 = bd1.dropna()\n",
        "bd1.shape\n"
      ],
      "execution_count": 11,
      "outputs": [
        {
          "output_type": "execute_result",
          "data": {
            "text/plain": [
              "(714, 5)"
            ]
          },
          "metadata": {
            "tags": []
          },
          "execution_count": 11
        }
      ]
    },
    {
      "metadata": {
        "id": "kyZhwZehHQLz",
        "colab_type": "code",
        "outputId": "bc4d5453-c0b9-433d-8f9c-59ad0dfd60b5",
        "colab": {
          "base_uri": "https://localhost:8080/",
          "height": 34
        }
      },
      "cell_type": "code",
      "source": [
        "# Dividimos nossos dados \n",
        "y = bd1.Survived\n",
        "X = bd1[[\"Age\", \"Sex_male\", \"Pclass_2\",\"Pclass_3\"]]\n",
        "X.shape\n",
        "y.shape\n"
      ],
      "execution_count": 12,
      "outputs": [
        {
          "output_type": "execute_result",
          "data": {
            "text/plain": [
              "(714,)"
            ]
          },
          "metadata": {
            "tags": []
          },
          "execution_count": 12
        }
      ]
    },
    {
      "metadata": {
        "id": "etuufTnNJRJ6",
        "colab_type": "code",
        "outputId": "29736af6-8418-48b0-ba4e-d243d9c0af3b",
        "colab": {
          "base_uri": "https://localhost:8080/",
          "height": 34
        }
      },
      "cell_type": "code",
      "source": [
        "X[\"intercept\"]= 1\n",
        "X.shape"
      ],
      "execution_count": 13,
      "outputs": [
        {
          "output_type": "execute_result",
          "data": {
            "text/plain": [
              "(714, 5)"
            ]
          },
          "metadata": {
            "tags": []
          },
          "execution_count": 13
        }
      ]
    },
    {
      "metadata": {
        "id": "-GHUhy7gJcAz",
        "colab_type": "code",
        "colab": {}
      },
      "cell_type": "code",
      "source": [
        "X_train, X_test, y_train, y_test = train_test_split(X, y, test_size=.3, random_state=1)"
      ],
      "execution_count": 0,
      "outputs": []
    },
    {
      "metadata": {
        "id": "P5SbplZTD4tl",
        "colab_type": "code",
        "outputId": "3663afe7-df4c-4578-a12e-e23b3f94d3a3",
        "colab": {
          "base_uri": "https://localhost:8080/",
          "height": 391
        }
      },
      "cell_type": "code",
      "source": [
        "# Estimar o modelo e visualizar os resultados\n",
        "model1 = Logit(y_train, X_train).fit()\n",
        "print(model1.summary2())"
      ],
      "execution_count": 15,
      "outputs": [
        {
          "output_type": "stream",
          "text": [
            "Optimization terminated successfully.\n",
            "         Current function value: 0.462052\n",
            "         Iterations 6\n",
            "                        Results: Logit\n",
            "===============================================================\n",
            "Model:              Logit            No. Iterations:   6.0000  \n",
            "Dependent Variable: Survived         Pseudo R-squared: 0.320   \n",
            "Date:               2019-03-28 00:34 AIC:              471.1283\n",
            "No. Observations:   499              BIC:              492.1913\n",
            "Df Model:           4                Log-Likelihood:   -230.56 \n",
            "Df Residuals:       494              LL-Null:          -339.28 \n",
            "Converged:          1.0000           Scale:            1.0000  \n",
            "----------------------------------------------------------------\n",
            "            Coef.   Std.Err.     z      P>|z|    [0.025   0.975]\n",
            "----------------------------------------------------------------\n",
            "Age        -0.0316    0.0090   -3.5110  0.0004  -0.0492  -0.0139\n",
            "Sex_male   -2.5629    0.2455  -10.4413  0.0000  -3.0440  -2.0818\n",
            "Pclass_2   -1.2833    0.3271   -3.9229  0.0001  -1.9245  -0.6422\n",
            "Pclass_3   -2.3819    0.3261   -7.3031  0.0000  -3.0211  -1.7426\n",
            "intercept   3.6067    0.4692    7.6867  0.0000   2.6871   4.5263\n",
            "===============================================================\n",
            "\n"
          ],
          "name": "stdout"
        }
      ]
    },
    {
      "metadata": {
        "id": "56BtvzRwKoTd",
        "colab_type": "code",
        "outputId": "8afd0323-3d81-423e-e029-f2ea0a53341c",
        "colab": {
          "base_uri": "https://localhost:8080/",
          "height": 119
        }
      },
      "cell_type": "code",
      "source": [
        "# Calcular as chances relativas ( Age = 1 * 0.96 = 9.60 ...)\n",
        "np.exp(model1.params)\n"
      ],
      "execution_count": 16,
      "outputs": [
        {
          "output_type": "execute_result",
          "data": {
            "text/plain": [
              "Age           0.968918\n",
              "Sex_male      0.077081\n",
              "Pclass_2      0.277114\n",
              "Pclass_3      0.092376\n",
              "intercept    36.844502\n",
              "dtype: float64"
            ]
          },
          "metadata": {
            "tags": []
          },
          "execution_count": 16
        }
      ]
    },
    {
      "metadata": {
        "id": "MD5bbNxEK10M",
        "colab_type": "text"
      },
      "cell_type": "markdown",
      "source": [
        "- Os homens tem 07 porcentos da chance de sobrevivência das mulheres\n",
        "- Para cada ano há mais Pclass2 vai ter 27 porcentoS das chances relativas da Pclass3\n",
        "- Para cada ano há mais Pclass3 vai ter 9 porcento das chances relativas da Pclass3"
      ]
    },
    {
      "metadata": {
        "id": "z7w2oqpJLTYM",
        "colab_type": "code",
        "colab": {}
      },
      "cell_type": "code",
      "source": [
        "def get_oddsperc(x):\n",
        "    res = (np.exp(x) - 1) * 100\n",
        "    return(res)\n",
        "  # Retorna o porcentual mais legivel"
      ],
      "execution_count": 0,
      "outputs": []
    },
    {
      "metadata": {
        "id": "JdUl4HD_LxXB",
        "colab_type": "code",
        "outputId": "354cda02-77cc-45cc-9b5b-bc594b585cbb",
        "colab": {
          "base_uri": "https://localhost:8080/",
          "height": 119
        }
      },
      "cell_type": "code",
      "source": [
        "get_oddsperc(model1.params)"
      ],
      "execution_count": 18,
      "outputs": [
        {
          "output_type": "execute_result",
          "data": {
            "text/plain": [
              "Age            -3.108190\n",
              "Sex_male      -92.291929\n",
              "Pclass_2      -72.288630\n",
              "Pclass_3      -90.762383\n",
              "intercept    3584.450154\n",
              "dtype: float64"
            ]
          },
          "metadata": {
            "tags": []
          },
          "execution_count": 18
        }
      ]
    },
    {
      "metadata": {
        "id": "JgMCKI5cL4yA",
        "colab_type": "text"
      },
      "cell_type": "markdown",
      "source": [
        "- Para cada um ano há mais na idade espera uma diminuição de 3 porcentos na chances de sobrevivencia.\n",
        "\n",
        "- Homens têm menos 92 porcentos de chance de sobreviver do que as mulheres\n"
      ]
    },
    {
      "metadata": {
        "id": "GvBggY-7MbZZ",
        "colab_type": "code",
        "outputId": "56e8ab5e-2c3d-416c-e13c-4ca2561c5eb5",
        "colab": {
          "base_uri": "https://localhost:8080/",
          "height": 51
        }
      },
      "cell_type": "code",
      "source": [
        "# Predizendo a minha chance de sobrevivência\n",
        "Warley = pd.DataFrame({\"Age\": 23, \"Sex_male\":1,\n",
        "                       \"Pclass_2\":0, \"Pclass_3\":1, \"intercept\":1},\n",
        "                      index=[0])\n",
        "print(model1.predict(Warley))"
      ],
      "execution_count": 20,
      "outputs": [
        {
          "output_type": "stream",
          "text": [
            "0    0.3133\n",
            "dtype: float64\n"
          ],
          "name": "stdout"
        }
      ]
    },
    {
      "metadata": {
        "id": "99rPt4XBuw56",
        "colab_type": "code",
        "colab": {
          "base_uri": "https://localhost:8080/",
          "height": 119
        },
        "outputId": "29fdd88a-8c73-4bb7-b030-7a5dc49e9541"
      },
      "cell_type": "code",
      "source": [
        "print(model1.params)\n",
        "b0 = model1.params[4]\n",
        "b1 = model1.params[0]\n",
        "b2 = model1.params[1]\n",
        "b3 = model1.params[2]\n",
        "b4 = model1.params[3]\n"
      ],
      "execution_count": 22,
      "outputs": [
        {
          "output_type": "stream",
          "text": [
            "Age         -0.031575\n",
            "Sex_male    -2.562902\n",
            "Pclass_2    -1.283327\n",
            "Pclass_3    -2.381886\n",
            "intercept    3.606706\n",
            "dtype: float64\n"
          ],
          "name": "stdout"
        }
      ]
    },
    {
      "metadata": {
        "id": "IYmlW8dXvQds",
        "colab_type": "code",
        "colab": {
          "base_uri": "https://localhost:8080/",
          "height": 34
        },
        "outputId": "87ed950f-c61f-490e-e52c-f9bdfdb176b6"
      },
      "cell_type": "code",
      "source": [
        "# Prevendo a probabilidade \" na mão\" \n",
        "# exp (b) / 1 + exp(b)\n",
        "np.exp(b0 + b1 * 32 + b2 + b4)/ (1 +np.exp(b0 + b1 *32 + b2 + b4))"
      ],
      "execution_count": 23,
      "outputs": [
        {
          "output_type": "execute_result",
          "data": {
            "text/plain": [
              "0.08718601242226665"
            ]
          },
          "metadata": {
            "tags": []
          },
          "execution_count": 23
        }
      ]
    },
    {
      "metadata": {
        "id": "3XqJVgo0wei1",
        "colab_type": "text"
      },
      "cell_type": "markdown",
      "source": [
        "# Verificando o ajuste do modelo"
      ]
    },
    {
      "metadata": {
        "id": "FH3UEf6Uw_qJ",
        "colab_type": "code",
        "colab": {}
      },
      "cell_type": "code",
      "source": [
        "probs = model1.predict(X_test, )\n",
        "yhat = []\n",
        "for i in probs:\n",
        "  if i > 0.5:\n",
        "    yhat.append(1)\n",
        "  else:\n",
        "    yhat.append(0)\n",
        "yhat = np.array(yhat)    "
      ],
      "execution_count": 0,
      "outputs": []
    },
    {
      "metadata": {
        "id": "E4Fuovaox3qB",
        "colab_type": "code",
        "colab": {
          "base_uri": "https://localhost:8080/",
          "height": 142
        },
        "outputId": "ff4ed0b1-f7fc-47ca-df0f-6021d07f2a46"
      },
      "cell_type": "code",
      "source": [
        "pd.crosstab (y_test, yhat)"
      ],
      "execution_count": 29,
      "outputs": [
        {
          "output_type": "execute_result",
          "data": {
            "text/html": [
              "<div>\n",
              "<style scoped>\n",
              "    .dataframe tbody tr th:only-of-type {\n",
              "        vertical-align: middle;\n",
              "    }\n",
              "\n",
              "    .dataframe tbody tr th {\n",
              "        vertical-align: top;\n",
              "    }\n",
              "\n",
              "    .dataframe thead th {\n",
              "        text-align: right;\n",
              "    }\n",
              "</style>\n",
              "<table border=\"1\" class=\"dataframe\">\n",
              "  <thead>\n",
              "    <tr style=\"text-align: right;\">\n",
              "      <th>col_0</th>\n",
              "      <th>0</th>\n",
              "      <th>1</th>\n",
              "    </tr>\n",
              "    <tr>\n",
              "      <th>Survived</th>\n",
              "      <th></th>\n",
              "      <th></th>\n",
              "    </tr>\n",
              "  </thead>\n",
              "  <tbody>\n",
              "    <tr>\n",
              "      <th>0</th>\n",
              "      <td>109</td>\n",
              "      <td>25</td>\n",
              "    </tr>\n",
              "    <tr>\n",
              "      <th>1</th>\n",
              "      <td>23</td>\n",
              "      <td>58</td>\n",
              "    </tr>\n",
              "  </tbody>\n",
              "</table>\n",
              "</div>"
            ],
            "text/plain": [
              "col_0       0   1\n",
              "Survived         \n",
              "0         109  25\n",
              "1          23  58"
            ]
          },
          "metadata": {
            "tags": []
          },
          "execution_count": 29
        }
      ]
    },
    {
      "metadata": {
        "id": "UeKauLBazEIy",
        "colab_type": "code",
        "colab": {
          "base_uri": "https://localhost:8080/",
          "height": 34
        },
        "outputId": "059deb44-e67c-4dc9-87fa-4db68f6969fd"
      },
      "cell_type": "code",
      "source": [
        "auc = roc_auc_score(y_test, yhat)\n",
        "print(\"AUC for Logistic Regression: \", auc)"
      ],
      "execution_count": 31,
      "outputs": [
        {
          "output_type": "stream",
          "text": [
            "AUC for Logistic Regression:  0.7647411092684725\n"
          ],
          "name": "stdout"
        }
      ]
    }
  ]
}
