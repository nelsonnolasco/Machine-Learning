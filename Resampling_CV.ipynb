{
  "nbformat": 4,
  "nbformat_minor": 0,
  "metadata": {
    "colab": {
      "name": "Resampling_CV.ipynb",
      "version": "0.3.2",
      "provenance": [],
      "include_colab_link": true
    },
    "kernelspec": {
      "name": "python3",
      "display_name": "Python 3"
    }
  },
  "cells": [
    {
      "cell_type": "markdown",
      "metadata": {
        "id": "view-in-github",
        "colab_type": "text"
      },
      "source": [
        "<a href=\"https://colab.research.google.com/github/Warleygomes/Machine-Learning/blob/master/Resampling_CV.ipynb\" target=\"_parent\"><img src=\"https://colab.research.google.com/assets/colab-badge.svg\" alt=\"Open In Colab\"/></a>"
      ]
    },
    {
      "metadata": {
        "id": "-T6Rc__-q__B",
        "colab_type": "text"
      },
      "cell_type": "markdown",
      "source": [
        "# Machine Learning\n",
        "Resampling (reamostragem) - **Cross validation**\n",
        "\n",
        "Prof. Neylson \n",
        "\n",
        "Aluno: Warley Gomes\n",
        "\n",
        "- Técnicas de reamostragem iniciando com cross-validation.\n",
        "\n",
        "Vamos ajustar uma regressão de horsepower predizendo mpg no banco de dados Auto."
      ]
    },
    {
      "metadata": {
        "id": "GM4Uo3fyxOfm",
        "colab_type": "text"
      },
      "cell_type": "markdown",
      "source": [
        "Algortimo de força bruta : LooCV = 1/n S ...[Saber mais sobre...](https://pt.wikibooks.org/wiki/Algoritmos/Reconhecimento_de_padr%C3%B5es/Algoritmo_de_For%C3%A7a_Bruta)"
      ]
    },
    {
      "metadata": {
        "id": "wlfrNWMjxQlO",
        "colab_type": "code",
        "colab": {}
      },
      "cell_type": "code",
      "source": [
        "import pandas as pd\n",
        "import numpy as np\n",
        "import matplotlib.pyplot as plt\n",
        "%matplotlib inline\n",
        "\n",
        "from sklearn.model_selection import LeaveOneOut, KFold, train_test_split\n",
        "\n",
        "from sklearn.preprocessing import PolynomialFeatures\n",
        "\n",
        "from sklearn.linear_model import LinearRegression, LogisticRegression\n",
        "from sklearn.metrics import mean_squared_error, roc_auc_score"
      ],
      "execution_count": 0,
      "outputs": []
    },
    {
      "metadata": {
        "id": "azx2n7ip0Q7l",
        "colab_type": "code",
        "colab": {
          "base_uri": "https://localhost:8080/",
          "height": 204
        },
        "outputId": "068ba022-df56-49c2-db6f-c864bff95235"
      },
      "cell_type": "code",
      "source": [
        "bd = pd.read_csv(\"http://www-bcf.usc.edu/~gareth/ISL/Auto.csv\")\n",
        "bd.head()"
      ],
      "execution_count": 4,
      "outputs": [
        {
          "output_type": "execute_result",
          "data": {
            "text/html": [
              "<div>\n",
              "<style scoped>\n",
              "    .dataframe tbody tr th:only-of-type {\n",
              "        vertical-align: middle;\n",
              "    }\n",
              "\n",
              "    .dataframe tbody tr th {\n",
              "        vertical-align: top;\n",
              "    }\n",
              "\n",
              "    .dataframe thead th {\n",
              "        text-align: right;\n",
              "    }\n",
              "</style>\n",
              "<table border=\"1\" class=\"dataframe\">\n",
              "  <thead>\n",
              "    <tr style=\"text-align: right;\">\n",
              "      <th></th>\n",
              "      <th>mpg</th>\n",
              "      <th>cylinders</th>\n",
              "      <th>displacement</th>\n",
              "      <th>horsepower</th>\n",
              "      <th>weight</th>\n",
              "      <th>acceleration</th>\n",
              "      <th>year</th>\n",
              "      <th>origin</th>\n",
              "      <th>name</th>\n",
              "    </tr>\n",
              "  </thead>\n",
              "  <tbody>\n",
              "    <tr>\n",
              "      <th>0</th>\n",
              "      <td>18.0</td>\n",
              "      <td>8</td>\n",
              "      <td>307.0</td>\n",
              "      <td>130</td>\n",
              "      <td>3504</td>\n",
              "      <td>12.0</td>\n",
              "      <td>70</td>\n",
              "      <td>1</td>\n",
              "      <td>chevrolet chevelle malibu</td>\n",
              "    </tr>\n",
              "    <tr>\n",
              "      <th>1</th>\n",
              "      <td>15.0</td>\n",
              "      <td>8</td>\n",
              "      <td>350.0</td>\n",
              "      <td>165</td>\n",
              "      <td>3693</td>\n",
              "      <td>11.5</td>\n",
              "      <td>70</td>\n",
              "      <td>1</td>\n",
              "      <td>buick skylark 320</td>\n",
              "    </tr>\n",
              "    <tr>\n",
              "      <th>2</th>\n",
              "      <td>18.0</td>\n",
              "      <td>8</td>\n",
              "      <td>318.0</td>\n",
              "      <td>150</td>\n",
              "      <td>3436</td>\n",
              "      <td>11.0</td>\n",
              "      <td>70</td>\n",
              "      <td>1</td>\n",
              "      <td>plymouth satellite</td>\n",
              "    </tr>\n",
              "    <tr>\n",
              "      <th>3</th>\n",
              "      <td>16.0</td>\n",
              "      <td>8</td>\n",
              "      <td>304.0</td>\n",
              "      <td>150</td>\n",
              "      <td>3433</td>\n",
              "      <td>12.0</td>\n",
              "      <td>70</td>\n",
              "      <td>1</td>\n",
              "      <td>amc rebel sst</td>\n",
              "    </tr>\n",
              "    <tr>\n",
              "      <th>4</th>\n",
              "      <td>17.0</td>\n",
              "      <td>8</td>\n",
              "      <td>302.0</td>\n",
              "      <td>140</td>\n",
              "      <td>3449</td>\n",
              "      <td>10.5</td>\n",
              "      <td>70</td>\n",
              "      <td>1</td>\n",
              "      <td>ford torino</td>\n",
              "    </tr>\n",
              "  </tbody>\n",
              "</table>\n",
              "</div>"
            ],
            "text/plain": [
              "    mpg  cylinders  displacement horsepower  weight  acceleration  year  \\\n",
              "0  18.0          8         307.0        130    3504          12.0    70   \n",
              "1  15.0          8         350.0        165    3693          11.5    70   \n",
              "2  18.0          8         318.0        150    3436          11.0    70   \n",
              "3  16.0          8         304.0        150    3433          12.0    70   \n",
              "4  17.0          8         302.0        140    3449          10.5    70   \n",
              "\n",
              "   origin                       name  \n",
              "0       1  chevrolet chevelle malibu  \n",
              "1       1          buick skylark 320  \n",
              "2       1         plymouth satellite  \n",
              "3       1              amc rebel sst  \n",
              "4       1                ford torino  "
            ]
          },
          "metadata": {
            "tags": []
          },
          "execution_count": 4
        }
      ]
    },
    {
      "metadata": {
        "id": "f5Fbltz10idt",
        "colab_type": "code",
        "colab": {
          "base_uri": "https://localhost:8080/",
          "height": 297
        },
        "outputId": "3cc322d9-2d67-4759-d48d-78f005d27b5b"
      },
      "cell_type": "code",
      "source": [
        "bd.describe()"
      ],
      "execution_count": 5,
      "outputs": [
        {
          "output_type": "execute_result",
          "data": {
            "text/html": [
              "<div>\n",
              "<style scoped>\n",
              "    .dataframe tbody tr th:only-of-type {\n",
              "        vertical-align: middle;\n",
              "    }\n",
              "\n",
              "    .dataframe tbody tr th {\n",
              "        vertical-align: top;\n",
              "    }\n",
              "\n",
              "    .dataframe thead th {\n",
              "        text-align: right;\n",
              "    }\n",
              "</style>\n",
              "<table border=\"1\" class=\"dataframe\">\n",
              "  <thead>\n",
              "    <tr style=\"text-align: right;\">\n",
              "      <th></th>\n",
              "      <th>mpg</th>\n",
              "      <th>cylinders</th>\n",
              "      <th>displacement</th>\n",
              "      <th>weight</th>\n",
              "      <th>acceleration</th>\n",
              "      <th>year</th>\n",
              "      <th>origin</th>\n",
              "    </tr>\n",
              "  </thead>\n",
              "  <tbody>\n",
              "    <tr>\n",
              "      <th>count</th>\n",
              "      <td>397.000000</td>\n",
              "      <td>397.000000</td>\n",
              "      <td>397.000000</td>\n",
              "      <td>397.000000</td>\n",
              "      <td>397.000000</td>\n",
              "      <td>397.000000</td>\n",
              "      <td>397.000000</td>\n",
              "    </tr>\n",
              "    <tr>\n",
              "      <th>mean</th>\n",
              "      <td>23.515869</td>\n",
              "      <td>5.458438</td>\n",
              "      <td>193.532746</td>\n",
              "      <td>2970.261965</td>\n",
              "      <td>15.555668</td>\n",
              "      <td>75.994962</td>\n",
              "      <td>1.574307</td>\n",
              "    </tr>\n",
              "    <tr>\n",
              "      <th>std</th>\n",
              "      <td>7.825804</td>\n",
              "      <td>1.701577</td>\n",
              "      <td>104.379583</td>\n",
              "      <td>847.904119</td>\n",
              "      <td>2.749995</td>\n",
              "      <td>3.690005</td>\n",
              "      <td>0.802549</td>\n",
              "    </tr>\n",
              "    <tr>\n",
              "      <th>min</th>\n",
              "      <td>9.000000</td>\n",
              "      <td>3.000000</td>\n",
              "      <td>68.000000</td>\n",
              "      <td>1613.000000</td>\n",
              "      <td>8.000000</td>\n",
              "      <td>70.000000</td>\n",
              "      <td>1.000000</td>\n",
              "    </tr>\n",
              "    <tr>\n",
              "      <th>25%</th>\n",
              "      <td>17.500000</td>\n",
              "      <td>4.000000</td>\n",
              "      <td>104.000000</td>\n",
              "      <td>2223.000000</td>\n",
              "      <td>13.800000</td>\n",
              "      <td>73.000000</td>\n",
              "      <td>1.000000</td>\n",
              "    </tr>\n",
              "    <tr>\n",
              "      <th>50%</th>\n",
              "      <td>23.000000</td>\n",
              "      <td>4.000000</td>\n",
              "      <td>146.000000</td>\n",
              "      <td>2800.000000</td>\n",
              "      <td>15.500000</td>\n",
              "      <td>76.000000</td>\n",
              "      <td>1.000000</td>\n",
              "    </tr>\n",
              "    <tr>\n",
              "      <th>75%</th>\n",
              "      <td>29.000000</td>\n",
              "      <td>8.000000</td>\n",
              "      <td>262.000000</td>\n",
              "      <td>3609.000000</td>\n",
              "      <td>17.100000</td>\n",
              "      <td>79.000000</td>\n",
              "      <td>2.000000</td>\n",
              "    </tr>\n",
              "    <tr>\n",
              "      <th>max</th>\n",
              "      <td>46.600000</td>\n",
              "      <td>8.000000</td>\n",
              "      <td>455.000000</td>\n",
              "      <td>5140.000000</td>\n",
              "      <td>24.800000</td>\n",
              "      <td>82.000000</td>\n",
              "      <td>3.000000</td>\n",
              "    </tr>\n",
              "  </tbody>\n",
              "</table>\n",
              "</div>"
            ],
            "text/plain": [
              "              mpg   cylinders  displacement       weight  acceleration  \\\n",
              "count  397.000000  397.000000    397.000000   397.000000    397.000000   \n",
              "mean    23.515869    5.458438    193.532746  2970.261965     15.555668   \n",
              "std      7.825804    1.701577    104.379583   847.904119      2.749995   \n",
              "min      9.000000    3.000000     68.000000  1613.000000      8.000000   \n",
              "25%     17.500000    4.000000    104.000000  2223.000000     13.800000   \n",
              "50%     23.000000    4.000000    146.000000  2800.000000     15.500000   \n",
              "75%     29.000000    8.000000    262.000000  3609.000000     17.100000   \n",
              "max     46.600000    8.000000    455.000000  5140.000000     24.800000   \n",
              "\n",
              "             year      origin  \n",
              "count  397.000000  397.000000  \n",
              "mean    75.994962    1.574307  \n",
              "std      3.690005    0.802549  \n",
              "min     70.000000    1.000000  \n",
              "25%     73.000000    1.000000  \n",
              "50%     76.000000    1.000000  \n",
              "75%     79.000000    2.000000  \n",
              "max     82.000000    3.000000  "
            ]
          },
          "metadata": {
            "tags": []
          },
          "execution_count": 5
        }
      ]
    },
    {
      "metadata": {
        "id": "H5e5kXeo0rpO",
        "colab_type": "code",
        "colab": {
          "base_uri": "https://localhost:8080/",
          "height": 187
        },
        "outputId": "10d6319b-934f-46d4-e580-46cab1b43ab1"
      },
      "cell_type": "code",
      "source": [
        "bd.dtypes"
      ],
      "execution_count": 6,
      "outputs": [
        {
          "output_type": "execute_result",
          "data": {
            "text/plain": [
              "mpg             float64\n",
              "cylinders         int64\n",
              "displacement    float64\n",
              "horsepower       object\n",
              "weight            int64\n",
              "acceleration    float64\n",
              "year              int64\n",
              "origin            int64\n",
              "name             object\n",
              "dtype: object"
            ]
          },
          "metadata": {
            "tags": []
          },
          "execution_count": 6
        }
      ]
    },
    {
      "metadata": {
        "id": "TfEtsqOT05d_",
        "colab_type": "text"
      },
      "cell_type": "markdown",
      "source": [
        "Op's tem algo errado!"
      ]
    },
    {
      "metadata": {
        "id": "m3CgdnjU0v8N",
        "colab_type": "code",
        "colab": {
          "base_uri": "https://localhost:8080/",
          "height": 1118
        },
        "outputId": "5d868de8-d97e-4bb2-939c-c585ca5e5cd7"
      },
      "cell_type": "code",
      "source": [
        "bd.horsepower.value_counts()"
      ],
      "execution_count": 7,
      "outputs": [
        {
          "output_type": "execute_result",
          "data": {
            "text/plain": [
              "150    22\n",
              "90     20\n",
              "88     19\n",
              "110    18\n",
              "100    17\n",
              "75     14\n",
              "95     14\n",
              "105    12\n",
              "67     12\n",
              "70     12\n",
              "65     10\n",
              "97      9\n",
              "85      9\n",
              "80      7\n",
              "140     7\n",
              "145     7\n",
              "84      6\n",
              "78      6\n",
              "68      6\n",
              "72      6\n",
              "92      6\n",
              "?       5\n",
              "115     5\n",
              "60      5\n",
              "130     5\n",
              "71      5\n",
              "180     5\n",
              "170     5\n",
              "175     5\n",
              "86      5\n",
              "       ..\n",
              "49      1\n",
              "103     1\n",
              "89      1\n",
              "200     1\n",
              "132     1\n",
              "54      1\n",
              "116     1\n",
              "94      1\n",
              "193     1\n",
              "230     1\n",
              "148     1\n",
              "107     1\n",
              "220     1\n",
              "152     1\n",
              "91      1\n",
              "113     1\n",
              "108     1\n",
              "64      1\n",
              "61      1\n",
              "122     1\n",
              "149     1\n",
              "93      1\n",
              "158     1\n",
              "135     1\n",
              "138     1\n",
              "133     1\n",
              "167     1\n",
              "66      1\n",
              "137     1\n",
              "82      1\n",
              "Name: horsepower, Length: 94, dtype: int64"
            ]
          },
          "metadata": {
            "tags": []
          },
          "execution_count": 7
        }
      ]
    },
    {
      "metadata": {
        "id": "7ZlAsECL1MW-",
        "colab_type": "code",
        "colab": {
          "base_uri": "https://localhost:8080/",
          "height": 176
        },
        "outputId": "c7a76f14-9a63-4388-d4d6-4712e876b57b"
      },
      "cell_type": "code",
      "source": [
        "bd.loc[bd[\"horsepower\"] == \"?\", \"horsepower\"] = np.nan\n",
        "bd = bd.dropna()\n",
        "bd.horsepower = bd.horsepower.astype(\"float64\")\n",
        "bd.horsepower.describe()"
      ],
      "execution_count": 9,
      "outputs": [
        {
          "output_type": "execute_result",
          "data": {
            "text/plain": [
              "count    392.000000\n",
              "mean     104.469388\n",
              "std       38.491160\n",
              "min       46.000000\n",
              "25%       75.000000\n",
              "50%       93.500000\n",
              "75%      126.000000\n",
              "max      230.000000\n",
              "Name: horsepower, dtype: float64"
            ]
          },
          "metadata": {
            "tags": []
          },
          "execution_count": 9
        }
      ]
    },
    {
      "metadata": {
        "id": "LxkNoCKF2y7A",
        "colab_type": "code",
        "colab": {
          "base_uri": "https://localhost:8080/",
          "height": 34
        },
        "outputId": "3f4c6b2f-75b0-488d-a0f5-39b16d6d2fcd"
      },
      "cell_type": "code",
      "source": [
        "bd = bd.dropna()\n",
        "bd.shape"
      ],
      "execution_count": 10,
      "outputs": [
        {
          "output_type": "execute_result",
          "data": {
            "text/plain": [
              "(392, 9)"
            ]
          },
          "metadata": {
            "tags": []
          },
          "execution_count": 10
        }
      ]
    },
    {
      "metadata": {
        "id": "dH8l9OZ227tX",
        "colab_type": "code",
        "colab": {}
      },
      "cell_type": "code",
      "source": [
        "y = bd.mpg\n",
        "X = bd.horsepower\n",
        "y = np.array(y)\n",
        "X = np.array(X)\n",
        "X = X.reshape(-1, 1)"
      ],
      "execution_count": 0,
      "outputs": []
    },
    {
      "metadata": {
        "id": "0M_0xwRO3bmP",
        "colab_type": "code",
        "colab": {
          "base_uri": "https://localhost:8080/",
          "height": 34
        },
        "outputId": "52a5fa9e-7a36-426b-ed9f-72fc50203f35"
      },
      "cell_type": "code",
      "source": [
        "X_train, X_test, y_train, y_test = train_test_split(X, y, test_size=.3, random_state = 5)\n",
        "\n",
        "reg = LinearRegression()\n",
        "reg.fit(X_train, y_train)\n",
        "yhat = reg.predict(X_test)\n",
        "medida = mean_squared_error(y_test, yhat)\n",
        "print(\"MSE for simple Linear Regression: \", medida)\n"
      ],
      "execution_count": 15,
      "outputs": [
        {
          "output_type": "stream",
          "text": [
            "MSE for simple Linear Regression:  34.61244348009658\n"
          ],
          "name": "stdout"
        }
      ]
    },
    {
      "metadata": {
        "id": "WzWeEzNd492P",
        "colab_type": "text"
      },
      "cell_type": "markdown",
      "source": [
        "# Estimando o MSE da Regressão com LOOCV"
      ]
    },
    {
      "metadata": {
        "id": "EuV5JRiw5C8O",
        "colab_type": "code",
        "colab": {
          "base_uri": "https://localhost:8080/",
          "height": 54
        },
        "outputId": "636a0b94-f2e0-470c-c285-867cce884185"
      },
      "cell_type": "code",
      "source": [
        "loo = LeaveOneOut()\n",
        "\n",
        "mse_list = []\n",
        "for train, test in loo.split(X):\n",
        "  X_train, X_test = X[train], X[test]\n",
        "  y_train, y_test = y[train], y[test]\n",
        "  reg.fit(X_train, y_train)\n",
        "  yhat = reg.predict(X_test)\n",
        "  medida = mean_squared_error(y_test, yhat)\n",
        "  mse_list.append(medida)\n",
        "\n",
        "#print(mse_list)\n",
        "mse_array = np.array(mse_list)\n",
        "  \n",
        "  "
      ],
      "execution_count": 16,
      "outputs": [
        {
          "output_type": "stream",
          "text": [
            "[2.0200100243216412, 1.2509241240422861, 3.0680516401639832, 0.06799019837204447, 0.7082556294244434, 41.35667450716614, 81.37553579730985, 67.14947672916045, 97.0498846570756, 26.343036823043395, 3.6742869739717334, 0.47074169056782245, 1.6050778867388114, 97.0498846570756, 0.889557151130716, 8.69418109789263, 44.12289653365883, 30.656222509959473, 0.9165497318131822, 45.31853784962301, 1.457052807537722, 3.0098355440288405, 0.0035461760456729618, 15.29640877266284, 22.502220796825593, 16.79054457227355, 2.7673535145602908, 18.535464818187215, 0.22995747384892581, 0.9165497318131822, 5.183799994543558, 0.0035461760456725385, 26.674551027218364, 54.47911198315076, 51.407832368845995, 49.94052560583025, 38.03600056861017, 0.011988458474187537, 2.9103300297208614, 3.2310436344767135, 5.166911181280724, 0.23248733238398803, 0.010667890815345995, 0.48261526388764725, 21.021111412644863, 43.558519729146084, 26.674551027218364, 65.12311616023943, 11.369041835374313, 5.183799994543558, 1.2508572731443464, 4.278732106338412, 1.771618190537011, 35.80448755894805, 12.151985486180129, 8.410440413367837, 0.889557151130716, 5.366572585517539, 71.75958415442526, 33.023084184078364, 28.923965018023665, 0.8090346864255135, 2.9103300297208614, 1.6050778867388114, 3.2310436344767135, 0.5556481161804393, 15.837456249677734, 6.186339359643925, 7.300692933174806, 9.62066868485245, 31.80793552879095, 1.6050778867388114, 41.46998611428396, 23.625337553584004, 5.166911181280724, 18.220586850469896, 35.55995554549239, 27.242488857017417, 9.357612276920433, 19.14019398093359, 6.724508275237923, 2.654406715209622, 0.48192211503588245, 0.9165497318131891, 0.48261526388764725, 5.166911181280724, 16.56734574624412, 18.749669073287297, 1.6050778867388114, 11.404180007251773, 10.75349008199783, 4.046029249635774, 5.16691118128074, 51.41270729757701, 60.75518841514566, 0.48261526388764725, 28.90009236509789, 66.79004642792562, 38.03600056861017, 65.12311616023943, 3.786435458413007, 45.31853784962292, 28.000884701957457, 2.529958042237691, 0.010667890815345995, 0.23248733238398803, 38.03600056861017, 36.770066955900404, 57.82504351583295, 9.653261953013969, 60.09991341306467, 56.90043209972587, 4.209601090058051, 0.07341613296566218, 4.2414107672086026, 162.50411782850256, 10.412495210045387, 16.926387239773643, 31.22569299980528, 10.66611577309077, 1.6050778867388114, 2.047146167539348, 0.46362722457281796, 0.2813085301881377, 24.542274373443504, 26.674551027218364, 84.1826427458492, 2.715686136489455, 1.723939861817437, 5.458247703111549, 9.672737231941262, 66.79004642792562, 43.429415369093014, 28.90009236509785, 3.408941844288855, 10.75349008199783, 5.166911181280724, 14.867482806368631, 5.166911181280724, 4.719854612759141, 11.404557020217782, 2.657231794074419, 0.537714835651903, 2.898726065957367, 0.009584907548846295, 16.926387239773643, 4.435386840626337, 0.39260331328686454, 0.5561743972181143, 2.7156861364894316, 35.4826220095149, 28.90009236509785, 185.79376556396, 185.79376556396, 8.566785739671992, 4.241410767208618, 0.06799019837204633, 6.707681708696541, 31.22003533619729, 54.47911198315081, 57.64925151133196, 48.433836977783514, 2.4870762980473105, 6.654631893569891, 43.5279867200212, 0.821133365786311, 14.804218263692206, 17.32348374467055, 21.542833255760787, 0.6160146596000299, 14.030144313621475, 0.39260331328686454, 44.12289653365883, 0.012949073832248439, 45.55564838949134, 3.7864354584130484, 9.331482432986997, 6.118528661062964, 10.401451042958184, 2.0740885191041953, 2.7025644805388307, 4.656940705428032, 0.17248780080220216, 2.1653969968420124, 0.02749187945871003, 0.1150585885361125, 0.06799019837204447, 30.36942192051296, 2.1107254539865883, 4.65249595610675, 1.8649957706926616, 9.995137660794779, 10.492864749996944, 7.551529985900237, 36.01165353355611, 0.012949073832248439, 2.0740885191041953, 17.32348374467055, 93.32137906160838, 16.67557049187241, 55.66351971149182, 0.5999879454655556, 9.782281640504454, 0.009584907548846295, 4.326950507345774, 14.788245359961214, 10.75349008199783, 49.94052560583025, 15.199544100196084, 20.320888541155433, 25.388149094286305, 16.56734574624412, 41.46998611428401, 10.75349008199783, 5.330425107549754, 7.297567969079158, 27.584657145406304, 0.517186810770767, 21.47950688866844, 0.20618073805313814, 31.220035336197334, 2.423503544076288, 19.64563676199191, 25.86926636075313, 8.233947205828875, 26.674551027218364, 35.793555658044525, 20.542541653911538, 5.865478921478392, 31.812458991350045, 0.17598184663734673, 1.9077748487546553, 2.403135349148044, 4.435386840626337, 0.15119055409426113, 0.26130367289255946, 44.72444020588958, 0.41336470056217, 8.33410056973227, 6.926841637721383, 1.1572195412897779, 1.1572195412897779, 117.24367726285101, 43.7670739321905, 1.1662973224371158, 111.553233517282, 32.1334195973435, 7.181962539136067, 2.4643579177471984, 4.905186178381668, 17.412351416938236, 19.82617580498182, 40.187722329918365, 0.8994396154344608, 13.401843450463113, 40.301218609147064, 7.668633278076568, 32.918324462955766, 15.866775990998214, 8.428034141945322, 4.679773409758243, 14.765779979205481, 0.011033629235304352, 0.1150585885361125, 0.6423469613681215, 6.586063316696055, 6.666276245492278, 7.917980879943117, 14.830443742452912, 0.026431879213292587, 7.440905307553299, 0.5283052350526384, 11.468417140657, 10.34145227443948, 0.03393771021390671, 7.581235948815317, 7.748422304638903, 0.08941907896917378, 0.08093848836350521, 45.43656424787167, 14.114052638560864, 30.757975441174978, 3.9128438031351687, 5.880432631442707, 3.924368104878007, 2.758082670223275, 0.18370228884372372, 2.073870252779642, 4.129160200869229, 1.0172257718076678, 5.083533004471452, 10.146778179182776, 19.77893732472598, 70.92851558312749, 0.008472760983751234, 5.7170272923925385, 7.86198815787981, 2.358597220743292, 3.367885100488841, 28.49248471645386, 31.800827041084464, 4.559231658778891, 68.80037285619838, 7.171493159576031, 49.49935826777028, 25.301685196664398, 60.72868498843832, 185.34416798315465, 58.99216499540319, 10.420799137778198, 57.2092847447673, 5.183799994543558, 0.12641509442032267, 2.0563889237384836, 44.21186543213296, 44.906456316187914, 16.663162268071716, 10.339551864416228, 134.99215095233248, 16.96762185514358, 289.44895546420804, 20.69743994818413, 125.05157385351215, 144.90519151155573, 123.88465264486321, 50.05464798399077, 0.41336470056217, 234.5776038781845, 19.908840486795775, 0.12353715109493785, 186.38621178959414, 0.20480853989179904, 80.66901574447408, 14.789941993521209, 0.2754307699387099, 0.005953056380924366, 0.14972675133074598, 0.863932787617788, 11.11564379216022, 70.08530460828119, 84.93034691630294, 21.740157900689958, 8.728675473667906, 54.208296856804424, 57.6616427324847, 24.220520347323706, 22.415394830473893, 22.552355765993486, 0.050727149198226594, 22.6998787999466, 31.643744482753778, 18.662319255344276, 76.93553721645836, 11.280191536103763, 0.631334897218467, 7.680024453115678, 14.323586180742478, 10.33652900326858, 0.030064728012452697, 10.537285141530061, 34.37743105445199, 80.0620412249694, 3.8431463177180896, 0.9165497318131891, 63.65749582721376, 20.208176554581, 5.43229348526248, 1.6227576546744715, 2.0111321335379775, 60.4809801575132, 61.395991047186854, 3.26284997565841, 64.84768248435483, 51.067562250168436, 99.69266756621361, 62.95836183593759, 26.387849966179154, 75.3932747654013, 7.038055378753192, 75.3932747654013, 5.9214150093899, 132.66110469599067, 0.34516904684027006, 0.06653001610599528, 52.36823677274507, 87.49214427598143, 1.6227576546744715, 0.4106221684444763, 152.82776194261953, 28.52182992630348, 0.28712437988678263, 16.169806409688476]\n"
          ],
          "name": "stdout"
        }
      ]
    },
    {
      "metadata": {
        "id": "Pldg2g7g6vGA",
        "colab_type": "code",
        "colab": {
          "base_uri": "https://localhost:8080/",
          "height": 34
        },
        "outputId": "1f7b238e-72c3-46cd-907e-f94d56a7f695"
      },
      "cell_type": "code",
      "source": [
        "print(\"MSE with LOOCV: \", mse_array.mean())"
      ],
      "execution_count": 17,
      "outputs": [
        {
          "output_type": "stream",
          "text": [
            "MSE with LOOCV:  24.231513517929226\n"
          ],
          "name": "stdout"
        }
      ]
    },
    {
      "metadata": {
        "id": "0--YuLEk9gcD",
        "colab_type": "code",
        "colab": {
          "base_uri": "https://localhost:8080/",
          "height": 34
        },
        "outputId": "5f98ea98-06b3-47b5-d83f-80ed1506a095"
      },
      "cell_type": "code",
      "source": [
        "kf = KFold(10)\n",
        "\n",
        "mse_list = []\n",
        "\n",
        "loo = LeaveOneOut()\n",
        "\n",
        "mse_list = []\n",
        "for train, test in kf.split(X):\n",
        "  X_train, X_test = X[train], X[test]\n",
        "  y_train, y_test = y[train], y[test]\n",
        "  reg.fit(X_train, y_train)\n",
        "  yhat = reg.predict(X_test)\n",
        "  medida = mean_squared_error(y_test, yhat)\n",
        "  mse_list.append(medida)\n",
        "\n",
        "print(len(mse_list))\n",
        "mse_array = np.array(mse_list)\n",
        " "
      ],
      "execution_count": 21,
      "outputs": [
        {
          "output_type": "stream",
          "text": [
            "10\n"
          ],
          "name": "stdout"
        }
      ]
    },
    {
      "metadata": {
        "id": "g_4atjkG9qdy",
        "colab_type": "code",
        "colab": {
          "base_uri": "https://localhost:8080/",
          "height": 34
        },
        "outputId": "a160b05c-8a75-46c3-e556-f4220216b828"
      },
      "cell_type": "code",
      "source": [
        "print(\"MSE with LOOCV: \", mse_array.mean())"
      ],
      "execution_count": 22,
      "outputs": [
        {
          "output_type": "stream",
          "text": [
            "MSE with LOOCV:  27.439933652339874\n"
          ],
          "name": "stdout"
        }
      ]
    }
  ]
}